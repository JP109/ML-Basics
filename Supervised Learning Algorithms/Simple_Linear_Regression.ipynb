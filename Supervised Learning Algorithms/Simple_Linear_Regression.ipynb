{
  "nbformat": 4,
  "nbformat_minor": 0,
  "metadata": {
    "colab": {
      "name": "Simple Linear regression.ipynb",
      "provenance": [],
      "authorship_tag": "ABX9TyNNWp+I1ltMWuy/zm8Q47yV",
      "include_colab_link": true
    },
    "kernelspec": {
      "name": "python3",
      "display_name": "Python 3"
    },
    "language_info": {
      "name": "python"
    }
  },
  "cells": [
    {
      "cell_type": "markdown",
      "metadata": {
        "id": "view-in-github",
        "colab_type": "text"
      },
      "source": [
        "<a href=\"https://colab.research.google.com/github/JP109/ML-Basics/blob/main/Supervised%20Learning%20Algorithms/Simple_Linear_Regression.ipynb\" target=\"_parent\"><img src=\"https://colab.research.google.com/assets/colab-badge.svg\" alt=\"Open In Colab\"/></a>"
      ]
    },
    {
      "cell_type": "markdown",
      "metadata": {
        "id": "pooKDz76-Ns7"
      },
      "source": [
        "Simple Linear Regression with following methods:\n",
        "1. scipy.polyfit\n",
        "2. scipy.stats.lingress\n",
        "3. scipy.optimize.curve_fit\n",
        "4. numpy.linalg.lstsq\n",
        "5. Analytic solution using Moore-Penrose generalized inverse or simple multiplicative matrix inverse\n",
        "6. sklearn.linear_model.LinearRegression"
      ]
    },
    {
      "cell_type": "markdown",
      "metadata": {
        "id": "DSpTFRQr9DvD"
      },
      "source": [
        "### **Import libraries**"
      ]
    },
    {
      "cell_type": "code",
      "metadata": {
        "colab": {
          "base_uri": "https://localhost:8080/"
        },
        "id": "XJ6K8MMGyWKx",
        "outputId": "fba5fdd0-fb6b-4ba1-d739-c99f9c53e891"
      },
      "source": [
        "from scipy import linspace, polyval, polyfit, sqrt, stats, randn, optimize\n",
        "import statsmodels.api as sm\n",
        "import matplotlib.pyplot as plt\n",
        "import time\n",
        "import numpy as np\n",
        "from sklearn.linear_model import LinearRegression\n",
        "import pandas as pd\n",
        "%matplotlib inline"
      ],
      "execution_count": 1,
      "outputs": [
        {
          "output_type": "stream",
          "name": "stderr",
          "text": [
            "/usr/local/lib/python3.7/dist-packages/statsmodels/tools/_testing.py:19: FutureWarning: pandas.util.testing is deprecated. Use the functions in the public API at pandas.testing instead.\n",
            "  import pandas.util.testing as tm\n"
          ]
        }
      ]
    },
    {
      "cell_type": "markdown",
      "metadata": {
        "id": "h92Q4o_O9VKb"
      },
      "source": [
        "### **Generate random data of a sufficiently large size**"
      ]
    },
    {
      "cell_type": "code",
      "metadata": {
        "colab": {
          "base_uri": "https://localhost:8080/"
        },
        "id": "CkhlyVr43kMK",
        "outputId": "f47d9fe0-0081-470c-92a5-fdf957f5bb53"
      },
      "source": [
        "#Sample data creation\n",
        "#number of points \n",
        "n=int(5e6)\n",
        "t=np.linspace(-10,10,n)\n",
        "#parameters\n",
        "a=3.25; b=-6.5\n",
        "x=polyval([a,b],t)\n",
        "#add some noise\n",
        "xn=x+3*randn(n)"
      ],
      "execution_count": 2,
      "outputs": [
        {
          "output_type": "stream",
          "name": "stderr",
          "text": [
            "/usr/local/lib/python3.7/dist-packages/ipykernel_launcher.py:7: DeprecationWarning: scipy.polyval is deprecated and will be removed in SciPy 2.0.0, use numpy.polyval instead\n",
            "  import sys\n",
            "/usr/local/lib/python3.7/dist-packages/ipykernel_launcher.py:9: DeprecationWarning: scipy.randn is deprecated and will be removed in SciPy 2.0.0, use numpy.random.randn instead\n",
            "  if __name__ == '__main__':\n"
          ]
        }
      ]
    },
    {
      "cell_type": "markdown",
      "metadata": {
        "id": "hTXllGNo9b9u"
      },
      "source": [
        "### **Draw few random sample points and plot**"
      ]
    },
    {
      "cell_type": "code",
      "metadata": {
        "colab": {
          "base_uri": "https://localhost:8080/",
          "height": 334
        },
        "id": "miUpL0ec3p1x",
        "outputId": "9b0057ff-1a2b-4f8a-b221-8782d887b2c9"
      },
      "source": [
        "xvar=np.random.choice(t,size=20)\n",
        "yvar=polyval([a,b],xvar)+3*randn(20)\n",
        "plt.scatter(xvar,yvar,c='green',edgecolors='k')\n",
        "plt.grid(True)\n",
        "plt.show()"
      ],
      "execution_count": 3,
      "outputs": [
        {
          "output_type": "stream",
          "name": "stderr",
          "text": [
            "/usr/local/lib/python3.7/dist-packages/ipykernel_launcher.py:2: DeprecationWarning: scipy.polyval is deprecated and will be removed in SciPy 2.0.0, use numpy.polyval instead\n",
            "  \n",
            "/usr/local/lib/python3.7/dist-packages/ipykernel_launcher.py:2: DeprecationWarning: scipy.randn is deprecated and will be removed in SciPy 2.0.0, use numpy.random.randn instead\n",
            "  \n"
          ]
        },
        {
          "output_type": "display_data",
          "data": {
            "image/png": "[encoded data removed]",
            "text/plain": [
              "<Figure size 432x288 with 1 Axes>"
            ]
          },
          "metadata": {
            "needs_background": "light"
          }
        }
      ]
    },
    {
      "cell_type": "markdown",
      "metadata": {
        "id": "ScvRedvS9ggB"
      },
      "source": [
        "### **1. Scipy.Polyfit**"
      ]
    },
    {
      "cell_type": "code",
      "metadata": {
        "colab": {
          "base_uri": "https://localhost:8080/"
        },
        "id": "rGoMqUB33u8_",
        "outputId": "915d4095-11fe-49c1-aba3-ffee89b011ba"
      },
      "source": [
        "#Linear regressison -polyfit - polyfit can be used other orders polynomials\n",
        "t1=time.time()\n",
        "(ar,br)=polyfit(t,xn,1)\n",
        "xr=polyval([ar,br],t)\n",
        "#compute the mean square error\n",
        "err=sqrt(sum((xr-xn)**2)/n)\n",
        "t2=time.time()\n",
        "t_polyfit = float(t2-t1)\n",
        "\n",
        "print('Linear regression using polyfit')\n",
        "print('parameters: a=%.2f b=%.2f, ms error= %.3f' % (ar,br,err))\n",
        "print(\"Time taken: {} seconds\".format(t_polyfit))"
      ],
      "execution_count": 4,
      "outputs": [
        {
          "output_type": "stream",
          "name": "stderr",
          "text": [
            "/usr/local/lib/python3.7/dist-packages/ipykernel_launcher.py:3: DeprecationWarning: scipy.polyfit is deprecated and will be removed in SciPy 2.0.0, use numpy.polyfit instead\n",
            "  This is separate from the ipykernel package so we can avoid doing imports until\n",
            "/usr/local/lib/python3.7/dist-packages/ipykernel_launcher.py:4: DeprecationWarning: scipy.polyval is deprecated and will be removed in SciPy 2.0.0, use numpy.polyval instead\n",
            "  after removing the cwd from sys.path.\n"
          ]
        },
        {
          "output_type": "stream",
          "name": "stdout",
          "text": [
            "Linear regression using polyfit\n",
            "parameters: a=3.25 b=-6.50, ms error= 2.999\n",
            "Time taken: 1.440279483795166 seconds\n"
          ]
        },
        {
          "output_type": "stream",
          "name": "stderr",
          "text": [
            "/usr/local/lib/python3.7/dist-packages/ipykernel_launcher.py:6: DeprecationWarning: scipy.sqrt is deprecated and will be removed in SciPy 2.0.0, use numpy.lib.scimath.sqrt instead\n",
            "  \n"
          ]
        }
      ]
    },
    {
      "cell_type": "markdown",
      "metadata": {
        "id": "oEnziDw09k3z"
      },
      "source": [
        "### **2. Stats.linregress**"
      ]
    },
    {
      "cell_type": "code",
      "metadata": {
        "colab": {
          "base_uri": "https://localhost:8080/"
        },
        "id": "2aRVo2mv34K8",
        "outputId": "2bad7bc6-b37e-48f0-f534-73bcae3602b5"
      },
      "source": [
        "#Linear regression using stats.linregress\n",
        "t1=time.time()\n",
        "(a_s,b_s,r,tt,stderr)=stats.linregress(t,xn)\n",
        "t2=time.time()\n",
        "t_linregress = float(t2-t1)\n",
        "\n",
        "print('Linear regression using stats.linregress')\n",
        "print('a=%.2f b=%.2f, std error= %.3f, r^2 coefficient= %.3f' % (a_s,b_s,stderr,r))\n",
        "print(\"Time taken: {} seconds\".format(t_linregress))"
      ],
      "execution_count": 5,
      "outputs": [
        {
          "output_type": "stream",
          "name": "stdout",
          "text": [
            "Linear regression using stats.linregress\n",
            "a=3.25 b=-6.50, std error= 0.000, r^2 coefficient= 0.987\n",
            "Time taken: 0.07276248931884766 seconds\n"
          ]
        }
      ]
    },
    {
      "cell_type": "markdown",
      "metadata": {
        "id": "ApXk9Fc69pxl"
      },
      "source": [
        "### **3. Optimize.curve_fit**"
      ]
    },
    {
      "cell_type": "code",
      "metadata": {
        "id": "sxIxWl6V4A2s"
      },
      "source": [
        "def flin(t,a,b):\n",
        "    result = a*t+b\n",
        "    return(result)"
      ],
      "execution_count": 6,
      "outputs": []
    },
    {
      "cell_type": "code",
      "metadata": {
        "colab": {
          "base_uri": "https://localhost:8080/"
        },
        "id": "NWemYBWA4D14",
        "outputId": "05db59f1-f387-4899-c25d-d68741756db4"
      },
      "source": [
        "t1=time.time()\n",
        "p1,_=optimize.curve_fit(flin,xdata=t,ydata=xn,method='lm')\n",
        "t2=time.time()\n",
        "t_optimize_curve_fit = float(t2-t1)\n",
        "\n",
        "print('Linear regression using optimize.curve_fit')\n",
        "print('parameters: a=%.2f b=%.2f' % (p1[0],p1[1]))\n",
        "print(\"Time taken: {} seconds\".format(t_optimize_curve_fit))"
      ],
      "execution_count": 7,
      "outputs": [
        {
          "output_type": "stream",
          "name": "stdout",
          "text": [
            "Linear regression using optimize.curve_fit\n",
            "parameters: a=3.25 b=-6.50\n",
            "Time taken: 0.5564641952514648 seconds\n"
          ]
        }
      ]
    },
    {
      "cell_type": "markdown",
      "metadata": {
        "id": "PrtoPSuk9t22"
      },
      "source": [
        "### **4. numpy.linalg.lstsq**"
      ]
    },
    {
      "cell_type": "code",
      "metadata": {
        "colab": {
          "base_uri": "https://localhost:8080/"
        },
        "id": "dXmuZ5Ac4Hda",
        "outputId": "f9176d6f-2c8c-42f9-e7c8-f6c3c5fd0f91"
      },
      "source": [
        "t1=time.time()\n",
        "A = np.vstack([t, np.ones(len(t))]).T\n",
        "result = np.linalg.lstsq(A, xn)\n",
        "ar,br = result[0]\n",
        "err = np.sqrt(result[1]/len(xn))\n",
        "t2=time.time()\n",
        "t_linalg_lstsq = float(t2-t1)\n",
        "\n",
        "print('Linear regression using numpy.linalg.lstsq')\n",
        "print('parameters: a=%.2f b=%.2f, ms error= %.3f' % (ar,br,err))\n",
        "print(\"Time taken: {} seconds\".format(t_linalg_lstsq))"
      ],
      "execution_count": 8,
      "outputs": [
        {
          "output_type": "stream",
          "name": "stdout",
          "text": [
            "Linear regression using numpy.linalg.lstsq\n",
            "parameters: a=3.25 b=-6.50, ms error= 2.999\n",
            "Time taken: 0.19619369506835938 seconds\n"
          ]
        },
        {
          "output_type": "stream",
          "name": "stderr",
          "text": [
            "/usr/local/lib/python3.7/dist-packages/ipykernel_launcher.py:3: FutureWarning: `rcond` parameter will change to the default of machine precision times ``max(M, N)`` where M and N are the input matrix dimensions.\n",
            "To use the future default and silence this warning we advise to pass `rcond=None`, to keep using the old, explicitly pass `rcond=-1`.\n",
            "  This is separate from the ipykernel package so we can avoid doing imports until\n"
          ]
        }
      ]
    },
    {
      "cell_type": "markdown",
      "metadata": {
        "id": "55AfQ2i_9yOi"
      },
      "source": [
        "### **5. Statsmodels.OLS**"
      ]
    },
    {
      "cell_type": "code",
      "metadata": {
        "colab": {
          "base_uri": "https://localhost:8080/"
        },
        "id": "NRSnGQcS4Kpy",
        "outputId": "47994390-8d2a-40b9-c465-9dc39040f601"
      },
      "source": [
        "t1=time.time()\n",
        "t=sm.add_constant(t)\n",
        "model = sm.OLS(x, t)\n",
        "results = model.fit()\n",
        "ar=results.params[1]\n",
        "br=results.params[0]\n",
        "t2=time.time()\n",
        "t_OLS = float(t2-t1)\n",
        "\n",
        "print('Linear regression using statsmodels.OLS')\n",
        "print('parameters: a=%.2f b=%.2f'% (ar,br))\n",
        "print(\"Time taken: {} seconds\".format(t_OLS))"
      ],
      "execution_count": 9,
      "outputs": [
        {
          "output_type": "stream",
          "name": "stdout",
          "text": [
            "Linear regression using statsmodels.OLS\n",
            "parameters: a=3.25 b=-6.50\n",
            "Time taken: 0.813471794128418 seconds\n"
          ]
        }
      ]
    },
    {
      "cell_type": "code",
      "metadata": {
        "colab": {
          "base_uri": "https://localhost:8080/"
        },
        "id": "1CDx-LgL4OBd",
        "outputId": "30b8fb9e-797c-438b-89a6-a8eb1591b106"
      },
      "source": [
        "print(results.summary())"
      ],
      "execution_count": 10,
      "outputs": [
        {
          "output_type": "stream",
          "name": "stdout",
          "text": [
            "                            OLS Regression Results                            \n",
            "==============================================================================\n",
            "Dep. Variable:                      y   R-squared:                       1.000\n",
            "Model:                            OLS   Adj. R-squared:                  1.000\n",
            "Method:                 Least Squares   F-statistic:                 3.888e+36\n",
            "Date:                Thu, 30 Sep 2021   Prob (F-statistic):               0.00\n",
            "Time:                        13:24:41   Log-Likelihood:             1.5031e+08\n",
            "No. Observations:             5000000   AIC:                        -3.006e+08\n",
            "Df Residuals:                 4999998   BIC:                        -3.006e+08\n",
            "Df Model:                           1                                         \n",
            "Covariance Type:            nonrobust                                         \n",
            "==============================================================================\n",
            "                 coef    std err          t      P>|t|      [0.025      0.975]\n",
            "------------------------------------------------------------------------------\n",
            "const         -6.5000   9.52e-18  -6.83e+17      0.000      -6.500      -6.500\n",
            "x1             3.2500   1.65e-18   1.97e+18      0.000       3.250       3.250\n",
            "==============================================================================\n",
            "Omnibus:                  2888915.793   Durbin-Watson:                   0.018\n",
            "Prob(Omnibus):                  0.000   Jarque-Bera (JB):           274896.760\n",
            "Skew:                          -0.018   Prob(JB):                         0.00\n",
            "Kurtosis:                       1.852   Cond. No.                         5.77\n",
            "==============================================================================\n",
            "\n",
            "Warnings:\n",
            "[1] Standard Errors assume that the covariance matrix of the errors is correctly specified.\n"
          ]
        }
      ]
    },
    {
      "cell_type": "markdown",
      "metadata": {
        "id": "UcoWEdhc95vW"
      },
      "source": [
        "### **6. Analytic solution using Moore-Penrose pseudoinverse**"
      ]
    },
    {
      "cell_type": "code",
      "metadata": {
        "colab": {
          "base_uri": "https://localhost:8080/"
        },
        "id": "r4fXp4XN4Soh",
        "outputId": "896953aa-732e-4269-c84a-16ad93d6ac01"
      },
      "source": [
        "t1=time.time()\n",
        "mpinv = np.linalg.pinv(t)\n",
        "result = mpinv.dot(x)\n",
        "ar = result[1]\n",
        "br = result[0]\n",
        "t2=time.time()\n",
        "t_inv_matrix = float(t2-t1)\n",
        "\n",
        "print('Linear regression using Moore-Penrose inverse')\n",
        "print('parameters: a=%.2f b=%.2f'% (ar,br))\n",
        "print(\"Time taken: {} seconds\".format(t_inv_matrix))"
      ],
      "execution_count": 11,
      "outputs": [
        {
          "output_type": "stream",
          "name": "stdout",
          "text": [
            "Linear regression using Moore-Penrose inverse\n",
            "parameters: a=3.25 b=-6.50\n",
            "Time taken: 0.3635444641113281 seconds\n"
          ]
        }
      ]
    },
    {
      "cell_type": "markdown",
      "metadata": {
        "id": "GnFJnlRV9-u3"
      },
      "source": [
        "### **7. Analytic solution using simple multiplicative matrix inverse**"
      ]
    },
    {
      "cell_type": "code",
      "metadata": {
        "colab": {
          "base_uri": "https://localhost:8080/"
        },
        "id": "w2bph2i94aIk",
        "outputId": "1ebcc952-4d14-4fa6-cd46-cb1279b3ba42"
      },
      "source": [
        "t1=time.time()\n",
        "m = np.dot((np.dot(np.linalg.inv(np.dot(t.T,t)),t.T)),x)\n",
        "ar = m[1]\n",
        "br = m[0]\n",
        "t2=time.time()\n",
        "t_simple_inv = float(t2-t1)\n",
        "\n",
        "print('Linear regression using simple inverse')\n",
        "print('parameters: a=%.2f b=%.2f'% (ar,br))\n",
        "print(\"Time taken: {} seconds\".format(t_simple_inv))"
      ],
      "execution_count": 12,
      "outputs": [
        {
          "output_type": "stream",
          "name": "stdout",
          "text": [
            "Linear regression using simple inverse\n",
            "parameters: a=3.25 b=-6.50\n",
            "Time taken: 0.08181071281433105 seconds\n"
          ]
        }
      ]
    },
    {
      "cell_type": "markdown",
      "metadata": {
        "id": "TBge1ofu-Clj"
      },
      "source": [
        "### **8. sklearn.linear_model.LinearRegression**"
      ]
    },
    {
      "cell_type": "code",
      "metadata": {
        "colab": {
          "base_uri": "https://localhost:8080/"
        },
        "id": "i0taCG1H4dQT",
        "outputId": "f1ac36ab-53a8-4e88-cd41-fd0989e3dc71"
      },
      "source": [
        "t1=time.time()\n",
        "lm = LinearRegression()\n",
        "lm.fit(t,x)\n",
        "ar=lm.coef_[1]\n",
        "br=lm.intercept_\n",
        "t2=time.time()\n",
        "t_sklearn_linear = float(t2-t1)\n",
        "\n",
        "print('Linear regression using sklearn.linear_model.LinearRegression')\n",
        "print('parameters: a=%.2f b=%.2f'% (ar,br))\n",
        "print(\"Time taken: {} seconds\".format(t_sklearn_linear))"
      ],
      "execution_count": 13,
      "outputs": [
        {
          "output_type": "stream",
          "name": "stdout",
          "text": [
            "Linear regression using sklearn.linear_model.LinearRegression\n",
            "parameters: a=3.25 b=-6.50\n",
            "Time taken: 0.35471487045288086 seconds\n"
          ]
        }
      ]
    },
    {
      "cell_type": "markdown",
      "metadata": {
        "id": "N9g3Ki_f-HTH"
      },
      "source": [
        "### **Bucket all the execution times in a list and plot**"
      ]
    },
    {
      "cell_type": "code",
      "metadata": {
        "id": "qpakkEsL4hpk"
      },
      "source": [
        "times = [t_polyfit,t_linregress,t_optimize_curve_fit,t_linalg_lstsq,t_OLS,t_inv_matrix,t_simple_inv,t_sklearn_linear]"
      ],
      "execution_count": 14,
      "outputs": []
    },
    {
      "cell_type": "code",
      "metadata": {
        "colab": {
          "base_uri": "https://localhost:8080/",
          "height": 321
        },
        "id": "SedYvCEY4kyW",
        "outputId": "5a7e97e2-c93d-460d-8f07-a6e9f04b9753"
      },
      "source": [
        "plt.figure(figsize=(20,5))\n",
        "plt.grid(True)\n",
        "plt.bar(x=[l*0.8 for l in range(8)],height=times, width=0.4,\n",
        "        tick_label=['Polyfit','Stats.linregress','Optimize.curve_fit',\n",
        "                    'numpy.linalg.lstsq','statsmodels.OLS','Moore-Penrose matrix inverse',\n",
        "                    'Simple matrix inverse','sklearn.linear_model'])\n",
        "plt.ylabel('Time to execute in milliseconds')\n",
        "plt.show()"
      ],
      "execution_count": 27,
      "outputs": [
        {
          "output_type": "display_data",
          "data": {
            "image/png": "[encoded data removed]",
            "text/plain": [
              "<Figure size 1440x360 with 1 Axes>"
            ]
          },
          "metadata": {
            "needs_background": "light"
          }
        }
      ]
    },
    {
      "cell_type": "code",
      "metadata": {
        "id": "tWCzeWon757z"
      },
      "source": [
        "n_min = 50000\n",
        "n_max = int(1e7)\n",
        "n_levels = 25\n",
        "r = np.log10(n_max/n_min)\n",
        "l = np.linspace(0,r,n_levels)\n",
        "n_data = list((n_min*np.power(10,l)))\n",
        "n_data = [int(n) for n in n_data]"
      ],
      "execution_count": 18,
      "outputs": []
    },
    {
      "cell_type": "code",
      "metadata": {
        "colab": {
          "base_uri": "https://localhost:8080/"
        },
        "id": "-2aCH2Uh8B0y",
        "outputId": "5f2221f0-0543-4abe-c075-23ebf3b39943"
      },
      "source": [
        "#time_dict={'Polyfit':[],'Stats.lingress':[],'Optimize.curve_fit':[],'linalg.lstsq':[],'statsmodels.OLS':[],\n",
        "          #'Moore-Penrose matrix inverse':[],'Simple matrix inverse':[], 'sklearn.linear_model':[]}\n",
        "\n",
        "l1=['Polyfit', 'Stats.lingress','Optimize.curve_fit', 'linalg.lstsq', \n",
        " 'statsmodels.OLS', 'Moore-Penrose matrix inverse', 'Simple matrix inverse', 'sklearn.linear_model']\n",
        "time_dict = {key:[] for key in l1}\n",
        "\n",
        "from tqdm import tqdm\n",
        "\n",
        "for i in tqdm(range(len(n_data))):\n",
        "    t=np.linspace(-10,10,n_data[i])\n",
        "    #parameters\n",
        "    a=3.25; b=-6.5\n",
        "    x=polyval([a,b],t)\n",
        "    #add some noise\n",
        "    xn=x+3*randn(n_data[i])\n",
        "    \n",
        "    #Linear regressison -polyfit - polyfit can be used other orders polynomials\n",
        "    t1=time.time()\n",
        "    (ar,br)=polyfit(t,xn,1)\n",
        "    t2=time.time()\n",
        "    t_polyfit = 1e3*float(t2-t1)\n",
        "    time_dict['Polyfit'].append(t_polyfit)\n",
        "    \n",
        "    #Linear regression using stats.linregress\n",
        "    t1=time.time()\n",
        "    (a_s,b_s,r,tt,stderr)=stats.linregress(t,xn)\n",
        "    t2=time.time()\n",
        "    t_linregress = 1e3*float(t2-t1)\n",
        "    time_dict['Stats.lingress'].append(t_linregress)\n",
        "    \n",
        "    #Linear regression using optimize.curve_fit\n",
        "    t1=time.time()\n",
        "    p1,_=optimize.curve_fit(flin,xdata=t,ydata=xn,method='lm')\n",
        "    t2=time.time()\n",
        "    t_optimize_curve_fit = 1e3*float(t2-t1)\n",
        "    time_dict['Optimize.curve_fit'].append(t_optimize_curve_fit)\n",
        "    \n",
        "    # Linear regression using np.linalg.lstsq (solving Ax=B equation system)\n",
        "    t1=time.time()\n",
        "    A = np.vstack([t, np.ones(len(t))]).T\n",
        "    result = np.linalg.lstsq(A, xn)\n",
        "    ar,br = result[0]\n",
        "    t2=time.time()\n",
        "    t_linalg_lstsq = 1e3*float(t2-t1)\n",
        "    time_dict['linalg.lstsq'].append(t_linalg_lstsq)\n",
        "    \n",
        "    # Linear regression using statsmodels.OLS\n",
        "    t1=time.time()\n",
        "    t=sm.add_constant(t)\n",
        "    model = sm.OLS(x, t)\n",
        "    results = model.fit()\n",
        "    ar=results.params[1]\n",
        "    br=results.params[0]\n",
        "    t2=time.time()\n",
        "    t_OLS = 1e3*float(t2-t1)\n",
        "    time_dict['statsmodels.OLS'].append(t_OLS)\n",
        "    \n",
        "    # Linear regression using Moore-Penrose pseudoinverse matrix\n",
        "    t1=time.time()\n",
        "    mpinv = np.linalg.pinv(t)\n",
        "    result = mpinv.dot(x)\n",
        "    ar = result[1]\n",
        "    br = result[0]\n",
        "    t2=time.time()\n",
        "    t_mpinverse = 1e3*float(t2-t1)\n",
        "    time_dict['Moore-Penrose matrix inverse'].append(t_mpinverse)\n",
        "    \n",
        "    # Linear regression using simple multiplicative inverse matrix\n",
        "    t1=time.time()\n",
        "    m = np.dot((np.dot(np.linalg.inv(np.dot(t.T,t)),t.T)),x)\n",
        "    ar = m[1]\n",
        "    br = m[0]\n",
        "    t2=time.time()\n",
        "    t_simple_inv = 1e3*float(t2-t1)\n",
        "    time_dict['Simple matrix inverse'].append(t_simple_inv)\n",
        "    \n",
        "    # Linear regression using scikit-learn's linear_model\n",
        "    t1=time.time()\n",
        "    lm = LinearRegression()\n",
        "    lm.fit(t,x)\n",
        "    ar=lm.coef_[1]\n",
        "    br=lm.intercept_\n",
        "    t2=time.time()\n",
        "    t_sklearn_linear = 1e3*float(t2-t1)\n",
        "    time_dict['sklearn.linear_model'].append(t_sklearn_linear)"
      ],
      "execution_count": 19,
      "outputs": [
        {
          "output_type": "stream",
          "name": "stderr",
          "text": [
            "  0%|          | 0/25 [00:00<?, ?it/s]/usr/local/lib/python3.7/dist-packages/ipykernel_launcher.py:14: DeprecationWarning: scipy.polyval is deprecated and will be removed in SciPy 2.0.0, use numpy.polyval instead\n",
            "  \n",
            "/usr/local/lib/python3.7/dist-packages/ipykernel_launcher.py:16: DeprecationWarning: scipy.randn is deprecated and will be removed in SciPy 2.0.0, use numpy.random.randn instead\n",
            "  app.launch_new_instance()\n",
            "/usr/local/lib/python3.7/dist-packages/ipykernel_launcher.py:20: DeprecationWarning: scipy.polyfit is deprecated and will be removed in SciPy 2.0.0, use numpy.polyfit instead\n",
            "/usr/local/lib/python3.7/dist-packages/ipykernel_launcher.py:42: FutureWarning: `rcond` parameter will change to the default of machine precision times ``max(M, N)`` where M and N are the input matrix dimensions.\n",
            "To use the future default and silence this warning we advise to pass `rcond=None`, to keep using the old, explicitly pass `rcond=-1`.\n",
            "/usr/local/lib/python3.7/dist-packages/ipykernel_launcher.py:14: DeprecationWarning: scipy.polyval is deprecated and will be removed in SciPy 2.0.0, use numpy.polyval instead\n",
            "  \n",
            "/usr/local/lib/python3.7/dist-packages/ipykernel_launcher.py:16: DeprecationWarning: scipy.randn is deprecated and will be removed in SciPy 2.0.0, use numpy.random.randn instead\n",
            "  app.launch_new_instance()\n",
            "/usr/local/lib/python3.7/dist-packages/ipykernel_launcher.py:20: DeprecationWarning: scipy.polyfit is deprecated and will be removed in SciPy 2.0.0, use numpy.polyfit instead\n",
            "/usr/local/lib/python3.7/dist-packages/ipykernel_launcher.py:42: FutureWarning: `rcond` parameter will change to the default of machine precision times ``max(M, N)`` where M and N are the input matrix dimensions.\n",
            "To use the future default and silence this warning we advise to pass `rcond=None`, to keep using the old, explicitly pass `rcond=-1`.\n",
            "/usr/local/lib/python3.7/dist-packages/ipykernel_launcher.py:14: DeprecationWarning: scipy.polyval is deprecated and will be removed in SciPy 2.0.0, use numpy.polyval instead\n",
            "  \n",
            "/usr/local/lib/python3.7/dist-packages/ipykernel_launcher.py:16: DeprecationWarning: scipy.randn is deprecated and will be removed in SciPy 2.0.0, use numpy.random.randn instead\n",
            "  app.launch_new_instance()\n",
            "/usr/local/lib/python3.7/dist-packages/ipykernel_launcher.py:20: DeprecationWarning: scipy.polyfit is deprecated and will be removed in SciPy 2.0.0, use numpy.polyfit instead\n",
            "/usr/local/lib/python3.7/dist-packages/ipykernel_launcher.py:42: FutureWarning: `rcond` parameter will change to the default of machine precision times ``max(M, N)`` where M and N are the input matrix dimensions.\n",
            "To use the future default and silence this warning we advise to pass `rcond=None`, to keep using the old, explicitly pass `rcond=-1`.\n",
            " 12%|█▏        | 3/25 [00:00<00:01, 19.56it/s]/usr/local/lib/python3.7/dist-packages/ipykernel_launcher.py:14: DeprecationWarning: scipy.polyval is deprecated and will be removed in SciPy 2.0.0, use numpy.polyval instead\n",
            "  \n",
            "/usr/local/lib/python3.7/dist-packages/ipykernel_launcher.py:16: DeprecationWarning: scipy.randn is deprecated and will be removed in SciPy 2.0.0, use numpy.random.randn instead\n",
            "  app.launch_new_instance()\n",
            "/usr/local/lib/python3.7/dist-packages/ipykernel_launcher.py:20: DeprecationWarning: scipy.polyfit is deprecated and will be removed in SciPy 2.0.0, use numpy.polyfit instead\n",
            "/usr/local/lib/python3.7/dist-packages/ipykernel_launcher.py:42: FutureWarning: `rcond` parameter will change to the default of machine precision times ``max(M, N)`` where M and N are the input matrix dimensions.\n",
            "To use the future default and silence this warning we advise to pass `rcond=None`, to keep using the old, explicitly pass `rcond=-1`.\n",
            "/usr/local/lib/python3.7/dist-packages/ipykernel_launcher.py:14: DeprecationWarning: scipy.polyval is deprecated and will be removed in SciPy 2.0.0, use numpy.polyval instead\n",
            "  \n",
            "/usr/local/lib/python3.7/dist-packages/ipykernel_launcher.py:16: DeprecationWarning: scipy.randn is deprecated and will be removed in SciPy 2.0.0, use numpy.random.randn instead\n",
            "  app.launch_new_instance()\n",
            "/usr/local/lib/python3.7/dist-packages/ipykernel_launcher.py:20: DeprecationWarning: scipy.polyfit is deprecated and will be removed in SciPy 2.0.0, use numpy.polyfit instead\n",
            "/usr/local/lib/python3.7/dist-packages/ipykernel_launcher.py:42: FutureWarning: `rcond` parameter will change to the default of machine precision times ``max(M, N)`` where M and N are the input matrix dimensions.\n",
            "To use the future default and silence this warning we advise to pass `rcond=None`, to keep using the old, explicitly pass `rcond=-1`.\n",
            " 20%|██        | 5/25 [00:00<00:01, 14.65it/s]/usr/local/lib/python3.7/dist-packages/ipykernel_launcher.py:14: DeprecationWarning: scipy.polyval is deprecated and will be removed in SciPy 2.0.0, use numpy.polyval instead\n",
            "  \n",
            "/usr/local/lib/python3.7/dist-packages/ipykernel_launcher.py:16: DeprecationWarning: scipy.randn is deprecated and will be removed in SciPy 2.0.0, use numpy.random.randn instead\n",
            "  app.launch_new_instance()\n",
            "/usr/local/lib/python3.7/dist-packages/ipykernel_launcher.py:20: DeprecationWarning: scipy.polyfit is deprecated and will be removed in SciPy 2.0.0, use numpy.polyfit instead\n",
            "/usr/local/lib/python3.7/dist-packages/ipykernel_launcher.py:42: FutureWarning: `rcond` parameter will change to the default of machine precision times ``max(M, N)`` where M and N are the input matrix dimensions.\n",
            "To use the future default and silence this warning we advise to pass `rcond=None`, to keep using the old, explicitly pass `rcond=-1`.\n",
            "/usr/local/lib/python3.7/dist-packages/ipykernel_launcher.py:14: DeprecationWarning: scipy.polyval is deprecated and will be removed in SciPy 2.0.0, use numpy.polyval instead\n",
            "  \n",
            "/usr/local/lib/python3.7/dist-packages/ipykernel_launcher.py:16: DeprecationWarning: scipy.randn is deprecated and will be removed in SciPy 2.0.0, use numpy.random.randn instead\n",
            "  app.launch_new_instance()\n",
            "/usr/local/lib/python3.7/dist-packages/ipykernel_launcher.py:20: DeprecationWarning: scipy.polyfit is deprecated and will be removed in SciPy 2.0.0, use numpy.polyfit instead\n",
            "/usr/local/lib/python3.7/dist-packages/ipykernel_launcher.py:42: FutureWarning: `rcond` parameter will change to the default of machine precision times ``max(M, N)`` where M and N are the input matrix dimensions.\n",
            "To use the future default and silence this warning we advise to pass `rcond=None`, to keep using the old, explicitly pass `rcond=-1`.\n",
            " 28%|██▊       | 7/25 [00:00<00:01, 10.80it/s]/usr/local/lib/python3.7/dist-packages/ipykernel_launcher.py:14: DeprecationWarning: scipy.polyval is deprecated and will be removed in SciPy 2.0.0, use numpy.polyval instead\n",
            "  \n",
            "/usr/local/lib/python3.7/dist-packages/ipykernel_launcher.py:16: DeprecationWarning: scipy.randn is deprecated and will be removed in SciPy 2.0.0, use numpy.random.randn instead\n",
            "  app.launch_new_instance()\n",
            "/usr/local/lib/python3.7/dist-packages/ipykernel_launcher.py:20: DeprecationWarning: scipy.polyfit is deprecated and will be removed in SciPy 2.0.0, use numpy.polyfit instead\n",
            "/usr/local/lib/python3.7/dist-packages/ipykernel_launcher.py:42: FutureWarning: `rcond` parameter will change to the default of machine precision times ``max(M, N)`` where M and N are the input matrix dimensions.\n",
            "To use the future default and silence this warning we advise to pass `rcond=None`, to keep using the old, explicitly pass `rcond=-1`.\n",
            "/usr/local/lib/python3.7/dist-packages/ipykernel_launcher.py:14: DeprecationWarning: scipy.polyval is deprecated and will be removed in SciPy 2.0.0, use numpy.polyval instead\n",
            "  \n",
            "/usr/local/lib/python3.7/dist-packages/ipykernel_launcher.py:16: DeprecationWarning: scipy.randn is deprecated and will be removed in SciPy 2.0.0, use numpy.random.randn instead\n",
            "  app.launch_new_instance()\n",
            "/usr/local/lib/python3.7/dist-packages/ipykernel_launcher.py:20: DeprecationWarning: scipy.polyfit is deprecated and will be removed in SciPy 2.0.0, use numpy.polyfit instead\n",
            "/usr/local/lib/python3.7/dist-packages/ipykernel_launcher.py:42: FutureWarning: `rcond` parameter will change to the default of machine precision times ``max(M, N)`` where M and N are the input matrix dimensions.\n",
            "To use the future default and silence this warning we advise to pass `rcond=None`, to keep using the old, explicitly pass `rcond=-1`.\n",
            " 36%|███▌      | 9/25 [00:00<00:02,  7.77it/s]/usr/local/lib/python3.7/dist-packages/ipykernel_launcher.py:14: DeprecationWarning: scipy.polyval is deprecated and will be removed in SciPy 2.0.0, use numpy.polyval instead\n",
            "  \n",
            "/usr/local/lib/python3.7/dist-packages/ipykernel_launcher.py:16: DeprecationWarning: scipy.randn is deprecated and will be removed in SciPy 2.0.0, use numpy.random.randn instead\n",
            "  app.launch_new_instance()\n",
            "/usr/local/lib/python3.7/dist-packages/ipykernel_launcher.py:20: DeprecationWarning: scipy.polyfit is deprecated and will be removed in SciPy 2.0.0, use numpy.polyfit instead\n",
            "/usr/local/lib/python3.7/dist-packages/ipykernel_launcher.py:42: FutureWarning: `rcond` parameter will change to the default of machine precision times ``max(M, N)`` where M and N are the input matrix dimensions.\n",
            "To use the future default and silence this warning we advise to pass `rcond=None`, to keep using the old, explicitly pass `rcond=-1`.\n",
            " 40%|████      | 10/25 [00:01<00:02,  6.49it/s]/usr/local/lib/python3.7/dist-packages/ipykernel_launcher.py:14: DeprecationWarning: scipy.polyval is deprecated and will be removed in SciPy 2.0.0, use numpy.polyval instead\n",
            "  \n",
            "/usr/local/lib/python3.7/dist-packages/ipykernel_launcher.py:16: DeprecationWarning: scipy.randn is deprecated and will be removed in SciPy 2.0.0, use numpy.random.randn instead\n",
            "  app.launch_new_instance()\n",
            "/usr/local/lib/python3.7/dist-packages/ipykernel_launcher.py:20: DeprecationWarning: scipy.polyfit is deprecated and will be removed in SciPy 2.0.0, use numpy.polyfit instead\n",
            "/usr/local/lib/python3.7/dist-packages/ipykernel_launcher.py:42: FutureWarning: `rcond` parameter will change to the default of machine precision times ``max(M, N)`` where M and N are the input matrix dimensions.\n",
            "To use the future default and silence this warning we advise to pass `rcond=None`, to keep using the old, explicitly pass `rcond=-1`.\n",
            " 44%|████▍     | 11/25 [00:01<00:02,  5.29it/s]/usr/local/lib/python3.7/dist-packages/ipykernel_launcher.py:14: DeprecationWarning: scipy.polyval is deprecated and will be removed in SciPy 2.0.0, use numpy.polyval instead\n",
            "  \n",
            "/usr/local/lib/python3.7/dist-packages/ipykernel_launcher.py:16: DeprecationWarning: scipy.randn is deprecated and will be removed in SciPy 2.0.0, use numpy.random.randn instead\n",
            "  app.launch_new_instance()\n",
            "/usr/local/lib/python3.7/dist-packages/ipykernel_launcher.py:20: DeprecationWarning: scipy.polyfit is deprecated and will be removed in SciPy 2.0.0, use numpy.polyfit instead\n",
            "/usr/local/lib/python3.7/dist-packages/ipykernel_launcher.py:42: FutureWarning: `rcond` parameter will change to the default of machine precision times ``max(M, N)`` where M and N are the input matrix dimensions.\n",
            "To use the future default and silence this warning we advise to pass `rcond=None`, to keep using the old, explicitly pass `rcond=-1`.\n",
            " 48%|████▊     | 12/25 [00:01<00:03,  4.28it/s]/usr/local/lib/python3.7/dist-packages/ipykernel_launcher.py:14: DeprecationWarning: scipy.polyval is deprecated and will be removed in SciPy 2.0.0, use numpy.polyval instead\n",
            "  \n",
            "/usr/local/lib/python3.7/dist-packages/ipykernel_launcher.py:16: DeprecationWarning: scipy.randn is deprecated and will be removed in SciPy 2.0.0, use numpy.random.randn instead\n",
            "  app.launch_new_instance()\n",
            "/usr/local/lib/python3.7/dist-packages/ipykernel_launcher.py:20: DeprecationWarning: scipy.polyfit is deprecated and will be removed in SciPy 2.0.0, use numpy.polyfit instead\n",
            "/usr/local/lib/python3.7/dist-packages/ipykernel_launcher.py:42: FutureWarning: `rcond` parameter will change to the default of machine precision times ``max(M, N)`` where M and N are the input matrix dimensions.\n",
            "To use the future default and silence this warning we advise to pass `rcond=None`, to keep using the old, explicitly pass `rcond=-1`.\n",
            " 52%|█████▏    | 13/25 [00:02<00:03,  3.40it/s]/usr/local/lib/python3.7/dist-packages/ipykernel_launcher.py:14: DeprecationWarning: scipy.polyval is deprecated and will be removed in SciPy 2.0.0, use numpy.polyval instead\n",
            "  \n",
            "/usr/local/lib/python3.7/dist-packages/ipykernel_launcher.py:16: DeprecationWarning: scipy.randn is deprecated and will be removed in SciPy 2.0.0, use numpy.random.randn instead\n",
            "  app.launch_new_instance()\n",
            "/usr/local/lib/python3.7/dist-packages/ipykernel_launcher.py:20: DeprecationWarning: scipy.polyfit is deprecated and will be removed in SciPy 2.0.0, use numpy.polyfit instead\n",
            "/usr/local/lib/python3.7/dist-packages/ipykernel_launcher.py:42: FutureWarning: `rcond` parameter will change to the default of machine precision times ``max(M, N)`` where M and N are the input matrix dimensions.\n",
            "To use the future default and silence this warning we advise to pass `rcond=None`, to keep using the old, explicitly pass `rcond=-1`.\n",
            " 56%|█████▌    | 14/25 [00:02<00:04,  2.70it/s]/usr/local/lib/python3.7/dist-packages/ipykernel_launcher.py:14: DeprecationWarning: scipy.polyval is deprecated and will be removed in SciPy 2.0.0, use numpy.polyval instead\n",
            "  \n",
            "/usr/local/lib/python3.7/dist-packages/ipykernel_launcher.py:16: DeprecationWarning: scipy.randn is deprecated and will be removed in SciPy 2.0.0, use numpy.random.randn instead\n",
            "  app.launch_new_instance()\n",
            "/usr/local/lib/python3.7/dist-packages/ipykernel_launcher.py:20: DeprecationWarning: scipy.polyfit is deprecated and will be removed in SciPy 2.0.0, use numpy.polyfit instead\n",
            "/usr/local/lib/python3.7/dist-packages/ipykernel_launcher.py:42: FutureWarning: `rcond` parameter will change to the default of machine precision times ``max(M, N)`` where M and N are the input matrix dimensions.\n",
            "To use the future default and silence this warning we advise to pass `rcond=None`, to keep using the old, explicitly pass `rcond=-1`.\n",
            " 60%|██████    | 15/25 [00:03<00:04,  2.10it/s]/usr/local/lib/python3.7/dist-packages/ipykernel_launcher.py:14: DeprecationWarning: scipy.polyval is deprecated and will be removed in SciPy 2.0.0, use numpy.polyval instead\n",
            "  \n",
            "/usr/local/lib/python3.7/dist-packages/ipykernel_launcher.py:16: DeprecationWarning: scipy.randn is deprecated and will be removed in SciPy 2.0.0, use numpy.random.randn instead\n",
            "  app.launch_new_instance()\n",
            "/usr/local/lib/python3.7/dist-packages/ipykernel_launcher.py:20: DeprecationWarning: scipy.polyfit is deprecated and will be removed in SciPy 2.0.0, use numpy.polyfit instead\n",
            "/usr/local/lib/python3.7/dist-packages/ipykernel_launcher.py:42: FutureWarning: `rcond` parameter will change to the default of machine precision times ``max(M, N)`` where M and N are the input matrix dimensions.\n",
            "To use the future default and silence this warning we advise to pass `rcond=None`, to keep using the old, explicitly pass `rcond=-1`.\n",
            " 64%|██████▍   | 16/25 [00:04<00:05,  1.65it/s]/usr/local/lib/python3.7/dist-packages/ipykernel_launcher.py:14: DeprecationWarning: scipy.polyval is deprecated and will be removed in SciPy 2.0.0, use numpy.polyval instead\n",
            "  \n",
            "/usr/local/lib/python3.7/dist-packages/ipykernel_launcher.py:16: DeprecationWarning: scipy.randn is deprecated and will be removed in SciPy 2.0.0, use numpy.random.randn instead\n",
            "  app.launch_new_instance()\n",
            "/usr/local/lib/python3.7/dist-packages/ipykernel_launcher.py:20: DeprecationWarning: scipy.polyfit is deprecated and will be removed in SciPy 2.0.0, use numpy.polyfit instead\n",
            "/usr/local/lib/python3.7/dist-packages/ipykernel_launcher.py:42: FutureWarning: `rcond` parameter will change to the default of machine precision times ``max(M, N)`` where M and N are the input matrix dimensions.\n",
            "To use the future default and silence this warning we advise to pass `rcond=None`, to keep using the old, explicitly pass `rcond=-1`.\n",
            " 68%|██████▊   | 17/25 [00:05<00:06,  1.33it/s]/usr/local/lib/python3.7/dist-packages/ipykernel_launcher.py:14: DeprecationWarning: scipy.polyval is deprecated and will be removed in SciPy 2.0.0, use numpy.polyval instead\n",
            "  \n",
            "/usr/local/lib/python3.7/dist-packages/ipykernel_launcher.py:16: DeprecationWarning: scipy.randn is deprecated and will be removed in SciPy 2.0.0, use numpy.random.randn instead\n",
            "  app.launch_new_instance()\n",
            "/usr/local/lib/python3.7/dist-packages/ipykernel_launcher.py:20: DeprecationWarning: scipy.polyfit is deprecated and will be removed in SciPy 2.0.0, use numpy.polyfit instead\n",
            "/usr/local/lib/python3.7/dist-packages/ipykernel_launcher.py:42: FutureWarning: `rcond` parameter will change to the default of machine precision times ``max(M, N)`` where M and N are the input matrix dimensions.\n",
            "To use the future default and silence this warning we advise to pass `rcond=None`, to keep using the old, explicitly pass `rcond=-1`.\n",
            " 72%|███████▏  | 18/25 [00:07<00:06,  1.06it/s]/usr/local/lib/python3.7/dist-packages/ipykernel_launcher.py:14: DeprecationWarning: scipy.polyval is deprecated and will be removed in SciPy 2.0.0, use numpy.polyval instead\n",
            "  \n",
            "/usr/local/lib/python3.7/dist-packages/ipykernel_launcher.py:16: DeprecationWarning: scipy.randn is deprecated and will be removed in SciPy 2.0.0, use numpy.random.randn instead\n",
            "  app.launch_new_instance()\n",
            "/usr/local/lib/python3.7/dist-packages/ipykernel_launcher.py:20: DeprecationWarning: scipy.polyfit is deprecated and will be removed in SciPy 2.0.0, use numpy.polyfit instead\n",
            "/usr/local/lib/python3.7/dist-packages/ipykernel_launcher.py:42: FutureWarning: `rcond` parameter will change to the default of machine precision times ``max(M, N)`` where M and N are the input matrix dimensions.\n",
            "To use the future default and silence this warning we advise to pass `rcond=None`, to keep using the old, explicitly pass `rcond=-1`.\n",
            " 76%|███████▌  | 19/25 [00:08<00:06,  1.17s/it]/usr/local/lib/python3.7/dist-packages/ipykernel_launcher.py:14: DeprecationWarning: scipy.polyval is deprecated and will be removed in SciPy 2.0.0, use numpy.polyval instead\n",
            "  \n",
            "/usr/local/lib/python3.7/dist-packages/ipykernel_launcher.py:16: DeprecationWarning: scipy.randn is deprecated and will be removed in SciPy 2.0.0, use numpy.random.randn instead\n",
            "  app.launch_new_instance()\n",
            "/usr/local/lib/python3.7/dist-packages/ipykernel_launcher.py:20: DeprecationWarning: scipy.polyfit is deprecated and will be removed in SciPy 2.0.0, use numpy.polyfit instead\n",
            "/usr/local/lib/python3.7/dist-packages/ipykernel_launcher.py:42: FutureWarning: `rcond` parameter will change to the default of machine precision times ``max(M, N)`` where M and N are the input matrix dimensions.\n",
            "To use the future default and silence this warning we advise to pass `rcond=None`, to keep using the old, explicitly pass `rcond=-1`.\n",
            " 80%|████████  | 20/25 [00:10<00:07,  1.43s/it]/usr/local/lib/python3.7/dist-packages/ipykernel_launcher.py:14: DeprecationWarning: scipy.polyval is deprecated and will be removed in SciPy 2.0.0, use numpy.polyval instead\n",
            "  \n",
            "/usr/local/lib/python3.7/dist-packages/ipykernel_launcher.py:16: DeprecationWarning: scipy.randn is deprecated and will be removed in SciPy 2.0.0, use numpy.random.randn instead\n",
            "  app.launch_new_instance()\n",
            "/usr/local/lib/python3.7/dist-packages/ipykernel_launcher.py:20: DeprecationWarning: scipy.polyfit is deprecated and will be removed in SciPy 2.0.0, use numpy.polyfit instead\n",
            "/usr/local/lib/python3.7/dist-packages/ipykernel_launcher.py:42: FutureWarning: `rcond` parameter will change to the default of machine precision times ``max(M, N)`` where M and N are the input matrix dimensions.\n",
            "To use the future default and silence this warning we advise to pass `rcond=None`, to keep using the old, explicitly pass `rcond=-1`.\n",
            " 84%|████████▍ | 21/25 [00:13<00:07,  1.80s/it]/usr/local/lib/python3.7/dist-packages/ipykernel_launcher.py:14: DeprecationWarning: scipy.polyval is deprecated and will be removed in SciPy 2.0.0, use numpy.polyval instead\n",
            "  \n",
            "/usr/local/lib/python3.7/dist-packages/ipykernel_launcher.py:16: DeprecationWarning: scipy.randn is deprecated and will be removed in SciPy 2.0.0, use numpy.random.randn instead\n",
            "  app.launch_new_instance()\n",
            "/usr/local/lib/python3.7/dist-packages/ipykernel_launcher.py:20: DeprecationWarning: scipy.polyfit is deprecated and will be removed in SciPy 2.0.0, use numpy.polyfit instead\n",
            "/usr/local/lib/python3.7/dist-packages/ipykernel_launcher.py:42: FutureWarning: `rcond` parameter will change to the default of machine precision times ``max(M, N)`` where M and N are the input matrix dimensions.\n",
            "To use the future default and silence this warning we advise to pass `rcond=None`, to keep using the old, explicitly pass `rcond=-1`.\n",
            " 88%|████████▊ | 22/25 [00:16<00:06,  2.25s/it]/usr/local/lib/python3.7/dist-packages/ipykernel_launcher.py:14: DeprecationWarning: scipy.polyval is deprecated and will be removed in SciPy 2.0.0, use numpy.polyval instead\n",
            "  \n",
            "/usr/local/lib/python3.7/dist-packages/ipykernel_launcher.py:16: DeprecationWarning: scipy.randn is deprecated and will be removed in SciPy 2.0.0, use numpy.random.randn instead\n",
            "  app.launch_new_instance()\n",
            "/usr/local/lib/python3.7/dist-packages/ipykernel_launcher.py:20: DeprecationWarning: scipy.polyfit is deprecated and will be removed in SciPy 2.0.0, use numpy.polyfit instead\n",
            "/usr/local/lib/python3.7/dist-packages/ipykernel_launcher.py:42: FutureWarning: `rcond` parameter will change to the default of machine precision times ``max(M, N)`` where M and N are the input matrix dimensions.\n",
            "To use the future default and silence this warning we advise to pass `rcond=None`, to keep using the old, explicitly pass `rcond=-1`.\n",
            " 92%|█████████▏| 23/25 [00:20<00:05,  2.78s/it]/usr/local/lib/python3.7/dist-packages/ipykernel_launcher.py:14: DeprecationWarning: scipy.polyval is deprecated and will be removed in SciPy 2.0.0, use numpy.polyval instead\n",
            "  \n",
            "/usr/local/lib/python3.7/dist-packages/ipykernel_launcher.py:16: DeprecationWarning: scipy.randn is deprecated and will be removed in SciPy 2.0.0, use numpy.random.randn instead\n",
            "  app.launch_new_instance()\n",
            "/usr/local/lib/python3.7/dist-packages/ipykernel_launcher.py:20: DeprecationWarning: scipy.polyfit is deprecated and will be removed in SciPy 2.0.0, use numpy.polyfit instead\n",
            "/usr/local/lib/python3.7/dist-packages/ipykernel_launcher.py:42: FutureWarning: `rcond` parameter will change to the default of machine precision times ``max(M, N)`` where M and N are the input matrix dimensions.\n",
            "To use the future default and silence this warning we advise to pass `rcond=None`, to keep using the old, explicitly pass `rcond=-1`.\n",
            " 96%|█████████▌| 24/25 [00:25<00:03,  3.43s/it]/usr/local/lib/python3.7/dist-packages/ipykernel_launcher.py:14: DeprecationWarning: scipy.polyval is deprecated and will be removed in SciPy 2.0.0, use numpy.polyval instead\n",
            "  \n",
            "/usr/local/lib/python3.7/dist-packages/ipykernel_launcher.py:16: DeprecationWarning: scipy.randn is deprecated and will be removed in SciPy 2.0.0, use numpy.random.randn instead\n",
            "  app.launch_new_instance()\n",
            "/usr/local/lib/python3.7/dist-packages/ipykernel_launcher.py:20: DeprecationWarning: scipy.polyfit is deprecated and will be removed in SciPy 2.0.0, use numpy.polyfit instead\n",
            "/usr/local/lib/python3.7/dist-packages/ipykernel_launcher.py:42: FutureWarning: `rcond` parameter will change to the default of machine precision times ``max(M, N)`` where M and N are the input matrix dimensions.\n",
            "To use the future default and silence this warning we advise to pass `rcond=None`, to keep using the old, explicitly pass `rcond=-1`.\n",
            "100%|██████████| 25/25 [00:31<00:00,  1.27s/it]\n"
          ]
        }
      ]
    },
    {
      "cell_type": "code",
      "metadata": {
        "colab": {
          "base_uri": "https://localhost:8080/",
          "height": 833
        },
        "id": "a6K38BEC8UVg",
        "outputId": "fe23323e-6326-4cff-eb34-46103c854ae1"
      },
      "source": [
        "df = pd.DataFrame(data=time_dict)\n",
        "df"
      ],
      "execution_count": 20,
      "outputs": [
        {
          "output_type": "execute_result",
          "data": {
            "text/html": [
              "<div>\n",
              "<style scoped>\n",
              "    .dataframe tbody tr th:only-of-type {\n",
              "        vertical-align: middle;\n",
              "    }\n",
              "\n",
              "    .dataframe tbody tr th {\n",
              "        vertical-align: top;\n",
              "    }\n",
              "\n",
              "    .dataframe thead th {\n",
              "        text-align: right;\n",
              "    }\n",
              "</style>\n",
              "<table border=\"1\" class=\"dataframe\">\n",
              "  <thead>\n",
              "    <tr style=\"text-align: right;\">\n",
              "      <th></th>\n",
              "      <th>Polyfit</th>\n",
              "      <th>Stats.lingress</th>\n",
              "      <th>Optimize.curve_fit</th>\n",
              "      <th>linalg.lstsq</th>\n",
              "      <th>statsmodels.OLS</th>\n",
              "      <th>Moore-Penrose matrix inverse</th>\n",
              "      <th>Simple matrix inverse</th>\n",
              "      <th>sklearn.linear_model</th>\n",
              "    </tr>\n",
              "  </thead>\n",
              "  <tbody>\n",
              "    <tr>\n",
              "      <th>0</th>\n",
              "      <td>4.513025</td>\n",
              "      <td>1.962900</td>\n",
              "      <td>5.279064</td>\n",
              "      <td>1.861095</td>\n",
              "      <td>11.369467</td>\n",
              "      <td>3.400564</td>\n",
              "      <td>0.913143</td>\n",
              "      <td>6.358624</td>\n",
              "    </tr>\n",
              "    <tr>\n",
              "      <th>1</th>\n",
              "      <td>7.716179</td>\n",
              "      <td>1.693249</td>\n",
              "      <td>7.990837</td>\n",
              "      <td>4.550219</td>\n",
              "      <td>13.363361</td>\n",
              "      <td>3.980637</td>\n",
              "      <td>1.057148</td>\n",
              "      <td>6.074667</td>\n",
              "    </tr>\n",
              "    <tr>\n",
              "      <th>2</th>\n",
              "      <td>9.388685</td>\n",
              "      <td>1.939297</td>\n",
              "      <td>9.030104</td>\n",
              "      <td>3.767729</td>\n",
              "      <td>14.442921</td>\n",
              "      <td>5.195856</td>\n",
              "      <td>1.474857</td>\n",
              "      <td>7.867336</td>\n",
              "    </tr>\n",
              "    <tr>\n",
              "      <th>3</th>\n",
              "      <td>11.363745</td>\n",
              "      <td>2.277136</td>\n",
              "      <td>10.872364</td>\n",
              "      <td>4.692078</td>\n",
              "      <td>18.853188</td>\n",
              "      <td>5.980730</td>\n",
              "      <td>1.646042</td>\n",
              "      <td>9.378672</td>\n",
              "    </tr>\n",
              "    <tr>\n",
              "      <th>4</th>\n",
              "      <td>14.242172</td>\n",
              "      <td>2.713442</td>\n",
              "      <td>13.876200</td>\n",
              "      <td>5.868435</td>\n",
              "      <td>20.529985</td>\n",
              "      <td>7.853031</td>\n",
              "      <td>2.343655</td>\n",
              "      <td>12.505770</td>\n",
              "    </tr>\n",
              "    <tr>\n",
              "      <th>5</th>\n",
              "      <td>16.913414</td>\n",
              "      <td>3.301144</td>\n",
              "      <td>20.380974</td>\n",
              "      <td>8.413792</td>\n",
              "      <td>26.015520</td>\n",
              "      <td>9.764910</td>\n",
              "      <td>2.524376</td>\n",
              "      <td>14.758825</td>\n",
              "    </tr>\n",
              "    <tr>\n",
              "      <th>6</th>\n",
              "      <td>21.639585</td>\n",
              "      <td>3.750801</td>\n",
              "      <td>20.022392</td>\n",
              "      <td>9.864569</td>\n",
              "      <td>34.876347</td>\n",
              "      <td>11.284828</td>\n",
              "      <td>2.898216</td>\n",
              "      <td>18.118143</td>\n",
              "    </tr>\n",
              "    <tr>\n",
              "      <th>7</th>\n",
              "      <td>26.688337</td>\n",
              "      <td>4.488707</td>\n",
              "      <td>28.548241</td>\n",
              "      <td>12.002707</td>\n",
              "      <td>34.788132</td>\n",
              "      <td>14.585257</td>\n",
              "      <td>3.948927</td>\n",
              "      <td>21.869898</td>\n",
              "    </tr>\n",
              "    <tr>\n",
              "      <th>8</th>\n",
              "      <td>32.512665</td>\n",
              "      <td>5.566597</td>\n",
              "      <td>32.722950</td>\n",
              "      <td>12.545109</td>\n",
              "      <td>48.006773</td>\n",
              "      <td>25.483370</td>\n",
              "      <td>6.510019</td>\n",
              "      <td>27.802706</td>\n",
              "    </tr>\n",
              "    <tr>\n",
              "      <th>9</th>\n",
              "      <td>41.632891</td>\n",
              "      <td>7.259607</td>\n",
              "      <td>39.665461</td>\n",
              "      <td>14.131784</td>\n",
              "      <td>50.409794</td>\n",
              "      <td>25.191307</td>\n",
              "      <td>5.897999</td>\n",
              "      <td>32.814026</td>\n",
              "    </tr>\n",
              "    <tr>\n",
              "      <th>10</th>\n",
              "      <td>50.973892</td>\n",
              "      <td>9.519577</td>\n",
              "      <td>43.931484</td>\n",
              "      <td>16.908884</td>\n",
              "      <td>68.473816</td>\n",
              "      <td>30.538082</td>\n",
              "      <td>7.843494</td>\n",
              "      <td>42.044163</td>\n",
              "    </tr>\n",
              "    <tr>\n",
              "      <th>11</th>\n",
              "      <td>54.567575</td>\n",
              "      <td>9.303808</td>\n",
              "      <td>58.719397</td>\n",
              "      <td>22.776365</td>\n",
              "      <td>80.592632</td>\n",
              "      <td>35.768270</td>\n",
              "      <td>9.113073</td>\n",
              "      <td>52.674294</td>\n",
              "    </tr>\n",
              "    <tr>\n",
              "      <th>12</th>\n",
              "      <td>55.532455</td>\n",
              "      <td>10.703325</td>\n",
              "      <td>73.320627</td>\n",
              "      <td>27.639866</td>\n",
              "      <td>103.764772</td>\n",
              "      <td>49.129486</td>\n",
              "      <td>12.281895</td>\n",
              "      <td>66.739798</td>\n",
              "    </tr>\n",
              "    <tr>\n",
              "      <th>13</th>\n",
              "      <td>69.514513</td>\n",
              "      <td>16.542673</td>\n",
              "      <td>103.430271</td>\n",
              "      <td>34.205675</td>\n",
              "      <td>132.089853</td>\n",
              "      <td>58.095217</td>\n",
              "      <td>15.164375</td>\n",
              "      <td>79.026461</td>\n",
              "    </tr>\n",
              "    <tr>\n",
              "      <th>14</th>\n",
              "      <td>91.755629</td>\n",
              "      <td>19.111633</td>\n",
              "      <td>139.388800</td>\n",
              "      <td>42.113304</td>\n",
              "      <td>186.126709</td>\n",
              "      <td>66.840410</td>\n",
              "      <td>19.398928</td>\n",
              "      <td>101.267815</td>\n",
              "    </tr>\n",
              "    <tr>\n",
              "      <th>15</th>\n",
              "      <td>107.993841</td>\n",
              "      <td>23.173809</td>\n",
              "      <td>159.022093</td>\n",
              "      <td>52.788258</td>\n",
              "      <td>227.313280</td>\n",
              "      <td>92.877388</td>\n",
              "      <td>23.778200</td>\n",
              "      <td>124.260187</td>\n",
              "    </tr>\n",
              "    <tr>\n",
              "      <th>16</th>\n",
              "      <td>141.619921</td>\n",
              "      <td>28.194189</td>\n",
              "      <td>200.814724</td>\n",
              "      <td>65.357924</td>\n",
              "      <td>278.719187</td>\n",
              "      <td>107.762575</td>\n",
              "      <td>27.993917</td>\n",
              "      <td>145.351887</td>\n",
              "    </tr>\n",
              "    <tr>\n",
              "      <th>17</th>\n",
              "      <td>206.935406</td>\n",
              "      <td>36.188602</td>\n",
              "      <td>246.526003</td>\n",
              "      <td>84.959269</td>\n",
              "      <td>335.647106</td>\n",
              "      <td>142.755270</td>\n",
              "      <td>35.545826</td>\n",
              "      <td>176.951170</td>\n",
              "    </tr>\n",
              "    <tr>\n",
              "      <th>18</th>\n",
              "      <td>225.409269</td>\n",
              "      <td>43.896675</td>\n",
              "      <td>294.673443</td>\n",
              "      <td>104.031563</td>\n",
              "      <td>402.246237</td>\n",
              "      <td>174.352884</td>\n",
              "      <td>45.446634</td>\n",
              "      <td>217.874050</td>\n",
              "    </tr>\n",
              "    <tr>\n",
              "      <th>19</th>\n",
              "      <td>266.993761</td>\n",
              "      <td>57.075024</td>\n",
              "      <td>372.585297</td>\n",
              "      <td>131.623507</td>\n",
              "      <td>491.612434</td>\n",
              "      <td>214.719772</td>\n",
              "      <td>52.969694</td>\n",
              "      <td>257.339001</td>\n",
              "    </tr>\n",
              "    <tr>\n",
              "      <th>20</th>\n",
              "      <td>322.368622</td>\n",
              "      <td>71.802616</td>\n",
              "      <td>462.216854</td>\n",
              "      <td>170.159340</td>\n",
              "      <td>732.752800</td>\n",
              "      <td>275.418758</td>\n",
              "      <td>68.086624</td>\n",
              "      <td>307.160378</td>\n",
              "    </tr>\n",
              "    <tr>\n",
              "      <th>21</th>\n",
              "      <td>557.950497</td>\n",
              "      <td>88.507652</td>\n",
              "      <td>575.652122</td>\n",
              "      <td>212.557077</td>\n",
              "      <td>757.463217</td>\n",
              "      <td>323.339462</td>\n",
              "      <td>84.385157</td>\n",
              "      <td>374.521255</td>\n",
              "    </tr>\n",
              "    <tr>\n",
              "      <th>22</th>\n",
              "      <td>595.152855</td>\n",
              "      <td>109.304428</td>\n",
              "      <td>736.275434</td>\n",
              "      <td>268.905878</td>\n",
              "      <td>986.900568</td>\n",
              "      <td>383.799314</td>\n",
              "      <td>109.122038</td>\n",
              "      <td>458.460093</td>\n",
              "    </tr>\n",
              "    <tr>\n",
              "      <th>23</th>\n",
              "      <td>669.965029</td>\n",
              "      <td>125.553131</td>\n",
              "      <td>930.492640</td>\n",
              "      <td>318.386555</td>\n",
              "      <td>1241.450787</td>\n",
              "      <td>491.470814</td>\n",
              "      <td>141.818047</td>\n",
              "      <td>566.714764</td>\n",
              "    </tr>\n",
              "    <tr>\n",
              "      <th>24</th>\n",
              "      <td>774.066925</td>\n",
              "      <td>146.907806</td>\n",
              "      <td>1177.824497</td>\n",
              "      <td>389.312983</td>\n",
              "      <td>1476.309776</td>\n",
              "      <td>563.941956</td>\n",
              "      <td>169.408083</td>\n",
              "      <td>705.215216</td>\n",
              "    </tr>\n",
              "  </tbody>\n",
              "</table>\n",
              "</div>"
            ],
            "text/plain": [
              "       Polyfit  Stats.lingress  ...  Simple matrix inverse  sklearn.linear_model\n",
              "0     4.513025        1.962900  ...               0.913143              6.358624\n",
              "1     7.716179        1.693249  ...               1.057148              6.074667\n",
              "2     9.388685        1.939297  ...               1.474857              7.867336\n",
              "3    11.363745        2.277136  ...               1.646042              9.378672\n",
              "4    14.242172        2.713442  ...               2.343655             12.505770\n",
              "5    16.913414        3.301144  ...               2.524376             14.758825\n",
              "6    21.639585        3.750801  ...               2.898216             18.118143\n",
              "7    26.688337        4.488707  ...               3.948927             21.869898\n",
              "8    32.512665        5.566597  ...               6.510019             27.802706\n",
              "9    41.632891        7.259607  ...               5.897999             32.814026\n",
              "10   50.973892        9.519577  ...               7.843494             42.044163\n",
              "11   54.567575        9.303808  ...               9.113073             52.674294\n",
              "12   55.532455       10.703325  ...              12.281895             66.739798\n",
              "13   69.514513       16.542673  ...              15.164375             79.026461\n",
              "14   91.755629       19.111633  ...              19.398928            101.267815\n",
              "15  107.993841       23.173809  ...              23.778200            124.260187\n",
              "16  141.619921       28.194189  ...              27.993917            145.351887\n",
              "17  206.935406       36.188602  ...              35.545826            176.951170\n",
              "18  225.409269       43.896675  ...              45.446634            217.874050\n",
              "19  266.993761       57.075024  ...              52.969694            257.339001\n",
              "20  322.368622       71.802616  ...              68.086624            307.160378\n",
              "21  557.950497       88.507652  ...              84.385157            374.521255\n",
              "22  595.152855      109.304428  ...             109.122038            458.460093\n",
              "23  669.965029      125.553131  ...             141.818047            566.714764\n",
              "24  774.066925      146.907806  ...             169.408083            705.215216\n",
              "\n",
              "[25 rows x 8 columns]"
            ]
          },
          "metadata": {},
          "execution_count": 20
        }
      ]
    },
    {
      "cell_type": "code",
      "metadata": {
        "colab": {
          "base_uri": "https://localhost:8080/",
          "height": 654
        },
        "id": "B0-R3FR88Z-G",
        "outputId": "dce2de96-5bdb-4427-f344-b5916a19bdc6"
      },
      "source": [
        "plt.figure(figsize=(15,10))\n",
        "for i in df.columns:\n",
        "    plt.semilogx((n_data),df[i],lw=3)\n",
        "plt.xticks([1e5,2e5,5e5,1e6,2e6,5e6,1e7],fontsize=15)\n",
        "plt.xlabel(\"\\nSize of the data set (number of samples)\",fontsize=15)\n",
        "plt.yticks(fontsize=15)\n",
        "plt.ylabel(\"Milliseconds needed for simple linear regression model fit\\n\",fontsize=15)\n",
        "plt.grid(True)\n",
        "plt.legend([name for name in df.columns],fontsize=20)"
      ],
      "execution_count": 21,
      "outputs": [
        {
          "output_type": "execute_result",
          "data": {
            "text/plain": [
              "<matplotlib.legend.Legend at 0x7fa8828105d0>"
            ]
          },
          "metadata": {},
          "execution_count": 21
        },
        {
          "output_type": "display_data",
          "data": {
            "image/png": "[encoded data removed]",
            "text/plain": [
              "<Figure size 1080x720 with 1 Axes>"
            ]
          },
          "metadata": {
            "needs_background": "light"
          }
        }
      ]
    },
    {
      "cell_type": "code",
      "metadata": {
        "id": "wMVWQybW8cU-"
      },
      "source": [
        "a1=df.iloc[n_levels-1]"
      ],
      "execution_count": 22,
      "outputs": []
    },
    {
      "cell_type": "code",
      "metadata": {
        "colab": {
          "base_uri": "https://localhost:8080/",
          "height": 321
        },
        "id": "z_1Uriv08eiA",
        "outputId": "ab994ec8-2179-4334-e9ea-e27b66454164"
      },
      "source": [
        "plt.figure(figsize=(20,5))\n",
        "plt.grid(True)\n",
        "plt.bar(x=[l*0.8 for l in range(8)],height=a1, width=0.4,\n",
        "        tick_label=list(a1.index))\n",
        "plt.show()"
      ],
      "execution_count": 24,
      "outputs": [
        {
          "output_type": "display_data",
          "data": {
            "image/png": "[encoded data removed]",
            "text/plain": [
              "<Figure size 1440x360 with 1 Axes>"
            ]
          },
          "metadata": {
            "needs_background": "light"
          }
        }
      ]
    }
  ]
}