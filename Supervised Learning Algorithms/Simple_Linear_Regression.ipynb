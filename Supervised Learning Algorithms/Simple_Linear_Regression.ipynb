{
  "nbformat": 4,
  "nbformat_minor": 0,
  "metadata": {
    "colab": {
      "name": "Simple Linear regression.ipynb",
      "provenance": [],
      "authorship_tag": "ABX9TyNnpqBuPkbSNg2+wBLsuhnR",
      "include_colab_link": true
    },
    "kernelspec": {
      "name": "python3",
      "display_name": "Python 3"
    },
    "language_info": {
      "name": "python"
    }
  },
  "cells": [
    {
      "cell_type": "markdown",
      "metadata": {
        "id": "view-in-github",
        "colab_type": "text"
      },
      "source": [
        "<a href=\"https://colab.research.google.com/github/JP109/ML-Basics/blob/main/Supervised%20Learning%20Algorithms/Simple_Linear_Regression.ipynb\" target=\"_parent\"><img src=\"https://colab.research.google.com/assets/colab-badge.svg\" alt=\"Open In Colab\"/></a>"
      ]
    },
    {
      "cell_type": "markdown",
      "metadata": {
        "id": "GP74FqiI4zIz"
      },
      "source": [
        "Univariate Linear Regression: Only accepts 1D array as input for X\n",
        "1. np.polyfit()\n",
        "2. scipy.stats.lineregress\n",
        "3. scipy.optimize.curve.fit\n",
        "\n",
        "Multivariate Linear Regression: Only accepts 2D array as input for X\n",
        "1. sklearn.linear_model.LinearRegression\n"
      ]
    },
    {
      "cell_type": "markdown",
      "metadata": {
        "id": "3nxlxEmX41Fi"
      },
      "source": [
        "### **Import libraries**"
      ]
    },
    {
      "cell_type": "code",
      "metadata": {
        "id": "7v8mC35c3r4h"
      },
      "source": [
        "from scipy import linspace, polyval, polyfit, sqrt, stats, randn, optimize\n",
        "import statsmodels.api as sm\n",
        "import matplotlib.pyplot as plt\n",
        "import time\n",
        "import numpy as np\n",
        "from sklearn.linear_model import LinearRegression\n",
        "import pandas as pd\n",
        "%matplotlib inline"
      ],
      "execution_count": 19,
      "outputs": []
    },
    {
      "cell_type": "markdown",
      "metadata": {
        "id": "r-OfDUx048fE"
      },
      "source": [
        "### **Generate random data and plot**"
      ]
    },
    {
      "cell_type": "code",
      "metadata": {
        "id": "-etehFsO49Hs"
      },
      "source": [
        "students = {'hours': [29, 9, 10, 38, 16, 26, 50, 10, 30, 33, 43, 2, 39, 15, 44, 29, 41, 15, 24, 50],\n",
        "            'test_results': [65, 7, 8, 76, 23, 56, 100, 3, 74, 48, 73, 0, 62, 37, 74, 40, 90, 42, 58, 100]}\n",
        "\n",
        "student_data = pd.DataFrame(data=students)"
      ],
      "execution_count": 20,
      "outputs": []
    },
    {
      "cell_type": "code",
      "metadata": {
        "colab": {
          "base_uri": "https://localhost:8080/",
          "height": 282
        },
        "id": "ON3L2Uq95CiS",
        "outputId": "00c9384f-1069-431e-977d-7e097b44f88b"
      },
      "source": [
        "x = student_data.hours\n",
        "y = student_data.test_results\n",
        "\n",
        "plt.scatter(x,y)"
      ],
      "execution_count": 21,
      "outputs": [
        {
          "output_type": "execute_result",
          "data": {
            "text/plain": [
              "<matplotlib.collections.PathCollection at 0x7febe757c3d0>"
            ]
          },
          "metadata": {},
          "execution_count": 21
        },
        {
          "output_type": "display_data",
          "data": {
            "image/png": "[encoded data removed]",
            "text/plain": [
              "<Figure size 432x288 with 1 Axes>"
            ]
          },
          "metadata": {
            "needs_background": "light"
          }
        }
      ]
    },
    {
      "cell_type": "markdown",
      "metadata": {
        "id": "AmF4wVz55IMc"
      },
      "source": [
        "## **Univariate Linear Regression**"
      ]
    },
    {
      "cell_type": "markdown",
      "metadata": {
        "id": "Of4nId3D5M-3"
      },
      "source": [
        "### **1. np.polyfit**\n",
        "\n",
        "Reference: https://numpy.org/doc/stable/reference/generated/numpy.polyfit.html"
      ]
    },
    {
      "cell_type": "code",
      "metadata": {
        "colab": {
          "base_uri": "https://localhost:8080/"
        },
        "id": "pP7tm1255PnZ",
        "outputId": "e4da1c10-7ec4-4de7-e2a8-af6a08c778bb"
      },
      "source": [
        "# Uses Ordinary Least Squares\n",
        "model = np.polyfit(x,y,1)\n",
        "print('m={:.2f}'.format(model[0]) + '  c={:.2f}'.format(model[1]))"
      ],
      "execution_count": 22,
      "outputs": [
        {
          "output_type": "stream",
          "name": "stdout",
          "text": [
            "m=2.01  c=-3.91\n"
          ]
        }
      ]
    },
    {
      "cell_type": "code",
      "metadata": {
        "colab": {
          "base_uri": "https://localhost:8080/"
        },
        "id": "oO7AOeaw5SSi",
        "outputId": "a980d679-914c-42b7-b77b-74faa8ae9e33"
      },
      "source": [
        "predict = np.poly1d(model)\n",
        "predict(20)"
      ],
      "execution_count": 23,
      "outputs": [
        {
          "output_type": "execute_result",
          "data": {
            "text/plain": [
              "36.38773723347843"
            ]
          },
          "metadata": {},
          "execution_count": 23
        }
      ]
    },
    {
      "cell_type": "markdown",
      "metadata": {
        "id": "RmUDQJ9N5VE-"
      },
      "source": [
        "### **2. stats.linregress**"
      ]
    },
    {
      "cell_type": "code",
      "metadata": {
        "colab": {
          "base_uri": "https://localhost:8080/"
        },
        "id": "Ik_x8v2f5V0q",
        "outputId": "f2b1f62c-ba58-463d-aeee-3ab65f30e4f4"
      },
      "source": [
        "model = stats.linregress(x,y)\n",
        "model"
      ],
      "execution_count": 24,
      "outputs": [
        {
          "output_type": "execute_result",
          "data": {
            "text/plain": [
              "LinregressResult(slope=2.014674871440727, intercept=-3.9057601953361, rvalue=0.9368820730704813, pvalue=1.1992631534960475e-09, stderr=0.17721959553200506)"
            ]
          },
          "metadata": {},
          "execution_count": 24
        }
      ]
    },
    {
      "cell_type": "markdown",
      "metadata": {
        "id": "dOCTVBjy5ap-"
      },
      "source": [
        "### **3. Optimize.curve_fit**\n",
        "\n",
        "Reference: https://machinelearningmastery.com/curve-fitting-with-python/\n",
        "https://docs.scipy.org/doc/scipy/reference/generated/scipy.optimize.curve_fit.html"
      ]
    },
    {
      "cell_type": "code",
      "metadata": {
        "id": "KLMIXixq5bm6"
      },
      "source": [
        "def objective(x, a, b):\n",
        "\treturn a * x + b"
      ],
      "execution_count": 25,
      "outputs": []
    },
    {
      "cell_type": "code",
      "metadata": {
        "colab": {
          "base_uri": "https://localhost:8080/"
        },
        "id": "les-vqsu5_d5",
        "outputId": "7381b736-8b05-4f87-bebd-f79bc4f10a86"
      },
      "source": [
        "model,_ = optimize.curve_fit(objective,x,y)\n",
        "model"
      ],
      "execution_count": 26,
      "outputs": [
        {
          "output_type": "execute_result",
          "data": {
            "text/plain": [
              "array([ 2.01467487, -3.9057602 ])"
            ]
          },
          "metadata": {},
          "execution_count": 26
        }
      ]
    },
    {
      "cell_type": "code",
      "metadata": {
        "colab": {
          "base_uri": "https://localhost:8080/"
        },
        "id": "yvTVXdju6ADJ",
        "outputId": "59236278-2153-419f-a26f-b7a6dc5ba2e9"
      },
      "source": [
        "predict = np.poly1d(model)\n",
        "predict(20)"
      ],
      "execution_count": 27,
      "outputs": [
        {
          "output_type": "execute_result",
          "data": {
            "text/plain": [
              "36.387737233512006"
            ]
          },
          "metadata": {},
          "execution_count": 27
        }
      ]
    },
    {
      "cell_type": "markdown",
      "metadata": {
        "id": "J3Sh_c-r6EOh"
      },
      "source": [
        "## **Multivariate Linear Regression**"
      ]
    },
    {
      "cell_type": "markdown",
      "metadata": {
        "id": "4-DtoFtn6HYa"
      },
      "source": [
        "### **1. sklearn.linear_model.LinearRegression**"
      ]
    },
    {
      "cell_type": "code",
      "metadata": {
        "colab": {
          "base_uri": "https://localhost:8080/"
        },
        "id": "prJqOIj86IKX",
        "outputId": "01c840ee-99f3-476c-db73-8051fad6e436"
      },
      "source": [
        "import numpy as np\n",
        "from sklearn.linear_model import LinearRegression\n",
        "X = np.array([[1, 1], [1, 2], [2, 2], [2, 3]])\n",
        "y = np.dot(X, np.array([1, 2])) + 3\n",
        "reg = LinearRegression().fit(X, y)\n",
        "print('Score:{}'.format(reg.score(X, y)))\n",
        "print('Coefficients:{}'.format(reg.coef_))\n",
        "print('Intercept:{}'.format(reg.intercept_))\n",
        "print('Prediction:{}'.format(reg.predict(np.array([[3, 5]]))))"
      ],
      "execution_count": 28,
      "outputs": [
        {
          "output_type": "stream",
          "name": "stdout",
          "text": [
            "Score:1.0\n",
            "Coefficients:[1. 2.]\n",
            "Intercept:3.0000000000000018\n",
            "Prediction:[16.]\n"
          ]
        }
      ]
    }
  ]
}