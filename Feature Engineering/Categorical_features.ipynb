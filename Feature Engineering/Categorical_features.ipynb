{
  "nbformat": 4,
  "nbformat_minor": 0,
  "metadata": {
    "colab": {
      "name": "Categorical features.ipynb",
      "provenance": [],
      "collapsed_sections": [],
      "authorship_tag": "ABX9TyPf+zDdKBiVGDFVHWnaX7Sp",
      "include_colab_link": true
    },
    "kernelspec": {
      "name": "python3",
      "display_name": "Python 3"
    },
    "language_info": {
      "name": "python"
    }
  },
  "cells": [
    {
      "cell_type": "markdown",
      "metadata": {
        "id": "view-in-github",
        "colab_type": "text"
      },
      "source": [
        "<a href=\"https://colab.research.google.com/github/JP109/ML-Basics/blob/main/Feature%20Engineering/Categorical_features.ipynb\" target=\"_parent\"><img src=\"https://colab.research.google.com/assets/colab-badge.svg\" alt=\"Open In Colab\"/></a>"
      ]
    },
    {
      "cell_type": "markdown",
      "metadata": {
        "id": "ePe8Tzf-pAtE"
      },
      "source": [
        "### **Encoding categorical features**\n",
        "\n",
        "Categorical features are either nominal, ordinal or boolean."
      ]
    },
    {
      "cell_type": "markdown",
      "metadata": {
        "id": "GoYcZswFRgYW"
      },
      "source": [
        "### **Nominal data:**"
      ]
    },
    {
      "cell_type": "markdown",
      "metadata": {
        "id": "kfUd84CnRYPy"
      },
      "source": [
        "**1. Label Encoding**\n",
        "LabelEncoder from sklearn is intended for target variable and hence only accepts a vector as input(not a matrix). \n",
        "\n",
        "We will encode a matrix(multivariate encoding) using a pandas trick instead:"
      ]
    },
    {
      "cell_type": "code",
      "metadata": {
        "colab": {
          "base_uri": "https://localhost:8080/",
          "height": 172
        },
        "id": "jvUEMgweSSQe",
        "outputId": "a3db63e2-0d25-4a82-90f3-37aa3187fc15"
      },
      "source": [
        "import pandas as pd\n",
        "df = pd.DataFrame({'A':list('bccd')})\n",
        "df"
      ],
      "execution_count": 3,
      "outputs": [
        {
          "output_type": "execute_result",
          "data": {
            "text/html": [
              "<div>\n",
              "<style scoped>\n",
              "    .dataframe tbody tr th:only-of-type {\n",
              "        vertical-align: middle;\n",
              "    }\n",
              "\n",
              "    .dataframe tbody tr th {\n",
              "        vertical-align: top;\n",
              "    }\n",
              "\n",
              "    .dataframe thead th {\n",
              "        text-align: right;\n",
              "    }\n",
              "</style>\n",
              "<table border=\"1\" class=\"dataframe\">\n",
              "  <thead>\n",
              "    <tr style=\"text-align: right;\">\n",
              "      <th></th>\n",
              "      <th>A</th>\n",
              "    </tr>\n",
              "  </thead>\n",
              "  <tbody>\n",
              "    <tr>\n",
              "      <th>0</th>\n",
              "      <td>b</td>\n",
              "    </tr>\n",
              "    <tr>\n",
              "      <th>1</th>\n",
              "      <td>c</td>\n",
              "    </tr>\n",
              "    <tr>\n",
              "      <th>2</th>\n",
              "      <td>c</td>\n",
              "    </tr>\n",
              "    <tr>\n",
              "      <th>3</th>\n",
              "      <td>d</td>\n",
              "    </tr>\n",
              "  </tbody>\n",
              "</table>\n",
              "</div>"
            ],
            "text/plain": [
              "   A\n",
              "0  b\n",
              "1  c\n",
              "2  c\n",
              "3  d"
            ]
          },
          "metadata": {},
          "execution_count": 3
        }
      ]
    },
    {
      "cell_type": "code",
      "metadata": {
        "colab": {
          "base_uri": "https://localhost:8080/"
        },
        "id": "gLt6NcAoTUac",
        "outputId": "fdab7372-52dd-49fd-c2a9-daf12c54529e"
      },
      "source": [
        "df = df.astype('category')\n",
        "df.dtypes"
      ],
      "execution_count": 5,
      "outputs": [
        {
          "output_type": "execute_result",
          "data": {
            "text/plain": [
              "A    category\n",
              "dtype: object"
            ]
          },
          "metadata": {},
          "execution_count": 5
        }
      ]
    },
    {
      "cell_type": "code",
      "metadata": {
        "colab": {
          "base_uri": "https://localhost:8080/"
        },
        "id": "2Gjy4-s9TWYg",
        "outputId": "99315777-07ca-4876-a369-7fad0d3f181f"
      },
      "source": [
        "df = df['A'].cat.codes\n",
        "df"
      ],
      "execution_count": 7,
      "outputs": [
        {
          "output_type": "execute_result",
          "data": {
            "text/plain": [
              "0    0\n",
              "1    1\n",
              "2    1\n",
              "3    2\n",
              "dtype: int8"
            ]
          },
          "metadata": {},
          "execution_count": 7
        }
      ]
    },
    {
      "cell_type": "markdown",
      "metadata": {
        "id": "iqTMNVrQTq9-"
      },
      "source": [
        "## **Ordinal Data**"
      ]
    },
    {
      "cell_type": "markdown",
      "metadata": {
        "id": "qmOBaxY3Tu-c"
      },
      "source": [
        "**1. Label encoding with specified order**"
      ]
    },
    {
      "cell_type": "code",
      "metadata": {
        "colab": {
          "base_uri": "https://localhost:8080/",
          "height": 172
        },
        "id": "iLtInNcYTzvM",
        "outputId": "ef6f0c95-83c6-449c-d17c-ebc91453240c"
      },
      "source": [
        "import pandas as pd\n",
        "from pandas.api.types import CategoricalDtype\n",
        "\n",
        "df = pd.DataFrame({'A':list('bccd')})\n",
        "ordered = CategoricalDtype(categories=list('abcd'), ordered=True)\n",
        "df = df.astype(ordered)\n",
        "df"
      ],
      "execution_count": 10,
      "outputs": [
        {
          "output_type": "execute_result",
          "data": {
            "text/html": [
              "<div>\n",
              "<style scoped>\n",
              "    .dataframe tbody tr th:only-of-type {\n",
              "        vertical-align: middle;\n",
              "    }\n",
              "\n",
              "    .dataframe tbody tr th {\n",
              "        vertical-align: top;\n",
              "    }\n",
              "\n",
              "    .dataframe thead th {\n",
              "        text-align: right;\n",
              "    }\n",
              "</style>\n",
              "<table border=\"1\" class=\"dataframe\">\n",
              "  <thead>\n",
              "    <tr style=\"text-align: right;\">\n",
              "      <th></th>\n",
              "      <th>A</th>\n",
              "    </tr>\n",
              "  </thead>\n",
              "  <tbody>\n",
              "    <tr>\n",
              "      <th>0</th>\n",
              "      <td>b</td>\n",
              "    </tr>\n",
              "    <tr>\n",
              "      <th>1</th>\n",
              "      <td>c</td>\n",
              "    </tr>\n",
              "    <tr>\n",
              "      <th>2</th>\n",
              "      <td>c</td>\n",
              "    </tr>\n",
              "    <tr>\n",
              "      <th>3</th>\n",
              "      <td>d</td>\n",
              "    </tr>\n",
              "  </tbody>\n",
              "</table>\n",
              "</div>"
            ],
            "text/plain": [
              "   A\n",
              "0  b\n",
              "1  c\n",
              "2  c\n",
              "3  d"
            ]
          },
          "metadata": {},
          "execution_count": 10
        }
      ]
    },
    {
      "cell_type": "code",
      "metadata": {
        "colab": {
          "base_uri": "https://localhost:8080/"
        },
        "id": "14EPHFDzVg4O",
        "outputId": "166c49cc-5404-464c-e893-b7273e9a5f0e"
      },
      "source": [
        "df = df['A'].cat.codes\n",
        "df"
      ],
      "execution_count": 11,
      "outputs": [
        {
          "output_type": "execute_result",
          "data": {
            "text/plain": [
              "0    1\n",
              "1    2\n",
              "2    2\n",
              "3    3\n",
              "dtype: int8"
            ]
          },
          "metadata": {},
          "execution_count": 11
        }
      ]
    },
    {
      "cell_type": "markdown",
      "metadata": {
        "id": "J9ctphVzRWFU"
      },
      "source": [
        "You might be tempted to encode this data with a straightforward numerical mapping:{'Queen Anne': 1, 'Fremont': 2, 'Wallingford': 3};\n",
        "\n",
        "This is not a useful approach in Scikit-Learn: the package's models make the fundamental assumption that numerical features reflect algebraic quantities. Thus such a mapping would imply, for example, that Queen Anne < Fremont < Wallingford, or even that Wallingford - Queen Anne = Fremont, which does not make much sense.\n",
        "\n",
        "Better methods for vectorizing categorical features:\n",
        "\n",
        "**2. One hot encoding**"
      ]
    },
    {
      "cell_type": "code",
      "metadata": {
        "id": "k7gpVfejo25f"
      },
      "source": [
        "data = [\n",
        "    {'price': 850000, 'rooms': 4, 'neighborhood': 'Queen Anne'},\n",
        "    {'price': 700000, 'rooms': 3, 'neighborhood': 'Fremont'},\n",
        "    {'price': 650000, 'rooms': 3, 'neighborhood': 'Wallingford'},\n",
        "    {'price': 600000, 'rooms': 2, 'neighborhood': 'Fremont'}\n",
        "]"
      ],
      "execution_count": null,
      "outputs": []
    },
    {
      "cell_type": "code",
      "metadata": {
        "colab": {
          "base_uri": "https://localhost:8080/"
        },
        "id": "QbZpUp-NrRxv",
        "outputId": "1a8fe988-7048-4d55-fce4-0dfa3a4b49e4"
      },
      "source": [
        "# When data is in the form of a list of dictionaries:\n",
        "from sklearn.feature_extraction import DictVectorizer\n",
        "vec = DictVectorizer(sparse=False, dtype=int)\n",
        "vec.fit_transform(data)"
      ],
      "execution_count": null,
      "outputs": [
        {
          "output_type": "execute_result",
          "data": {
            "text/plain": [
              "array([[     0,      1,      0, 850000,      4],\n",
              "       [     1,      0,      0, 700000,      3],\n",
              "       [     0,      0,      1, 650000,      3],\n",
              "       [     1,      0,      0, 600000,      2]])"
            ]
          },
          "metadata": {},
          "execution_count": 2
        }
      ]
    },
    {
      "cell_type": "code",
      "metadata": {
        "colab": {
          "base_uri": "https://localhost:8080/"
        },
        "id": "_f2BHx-9rcH7",
        "outputId": "f3d2b80a-280a-4bde-90fc-f96605f1b2f8"
      },
      "source": [
        "# Get meaning of each column:\n",
        "vec.get_feature_names()"
      ],
      "execution_count": null,
      "outputs": [
        {
          "output_type": "execute_result",
          "data": {
            "text/plain": [
              "['neighborhood=Fremont',\n",
              " 'neighborhood=Queen Anne',\n",
              " 'neighborhood=Wallingford',\n",
              " 'price',\n",
              " 'rooms']"
            ]
          },
          "metadata": {},
          "execution_count": 3
        }
      ]
    },
    {
      "cell_type": "markdown",
      "metadata": {
        "id": "6QtXdTN2r6bz"
      },
      "source": [
        "If your category has many possible values, this can greatly increase the size of your dataset. However, because the encoded data contains mostly zeros, a sparse output can be a very efficient solution:"
      ]
    },
    {
      "cell_type": "code",
      "metadata": {
        "colab": {
          "base_uri": "https://localhost:8080/"
        },
        "id": "zCivhzXFr0V-",
        "outputId": "ac9ade0a-7617-437a-ac8d-eab49615df4f"
      },
      "source": [
        "vec = DictVectorizer(sparse=True, dtype=int)\n",
        "vec.fit_transform(data)"
      ],
      "execution_count": null,
      "outputs": [
        {
          "output_type": "execute_result",
          "data": {
            "text/plain": [
              "<4x5 sparse matrix of type '<class 'numpy.int64'>'\n",
              "\twith 12 stored elements in Compressed Sparse Row format>"
            ]
          },
          "metadata": {},
          "execution_count": 4
        }
      ]
    },
    {
      "cell_type": "markdown",
      "metadata": {
        "id": "SwtlwTdGr_aG"
      },
      "source": [
        "Many (though not yet all) of the Scikit-Learn estimators accept such sparse inputs when fitting and evaluating models. sklearn.preprocessing.OneHotEncoder and sklearn.feature_extraction.FeatureHasher are two additional tools that Scikit-Learn includes to support this type of encoding."
      ]
    },
    {
      "cell_type": "markdown",
      "metadata": {
        "id": "3ytKz968V0ms"
      },
      "source": [
        "**3. Ordinal Encoder**"
      ]
    },
    {
      "cell_type": "code",
      "metadata": {
        "id": "-1uTOA7mV2zW"
      },
      "source": [
        ""
      ],
      "execution_count": null,
      "outputs": []
    }
  ]
}