{
  "nbformat": 4,
  "nbformat_minor": 0,
  "metadata": {
    "colab": {
      "name": "Basics.ipynb",
      "provenance": [],
      "authorship_tag": "ABX9TyP+PbXfayt1w6V19592a+rF",
      "include_colab_link": true
    },
    "kernelspec": {
      "name": "python3",
      "display_name": "Python 3"
    },
    "language_info": {
      "name": "python"
    }
  },
  "cells": [
    {
      "cell_type": "markdown",
      "metadata": {
        "id": "view-in-github",
        "colab_type": "text"
      },
      "source": [
        "<a href=\"https://colab.research.google.com/github/JP109/ML-Basics/blob/main/matplotlib/Basics.ipynb\" target=\"_parent\"><img src=\"https://colab.research.google.com/assets/colab-badge.svg\" alt=\"Open In Colab\"/></a>"
      ]
    },
    {
      "cell_type": "markdown",
      "metadata": {
        "id": "rtYLWjR9fKAD"
      },
      "source": [
        "Matplotlib is a multi-platform data visualization library built on NumPy arrays, and designed to work with the broader SciPy stack. It was conceived by John Hunter in 2002, originally as a patch to IPython for enabling interactive MATLAB-style plotting via gnuplot from the IPython command line.\n",
        "\n",
        "One of Matplotlib’s most important features is its ability to play well with many operating systems and graphics backends. Matplotlib supports dozens of backends and output types, which means you can count on it to work regardless of which operating system you are using or which output format you wish.\n",
        "\n",
        "In recent years, however, the interface and style of Matplotlib have begun to show their age. Newer tools like ggplot and ggvis in the R language, along with web visualization toolkits based on D3js and HTML5 canvas, often make Matplotlib feel clunky and old-fashioned. Still, I'm of the opinion that we cannot ignore Matplotlib's strength as a well-tested, cross-platform graphics engine."
      ]
    },
    {
      "cell_type": "markdown",
      "metadata": {
        "id": "zOvyFKM1hHFA"
      },
      "source": [
        "### **Importing**\n",
        "pyplot is the module that provides the interface to plotting library of matplotlib"
      ]
    },
    {
      "cell_type": "code",
      "metadata": {
        "id": "Vkx4gT2YeoYn"
      },
      "source": [
        "import matplotlib.pyplot as plt"
      ],
      "execution_count": 2,
      "outputs": []
    },
    {
      "cell_type": "markdown",
      "metadata": {
        "id": "ID5uDzhmh2p-"
      },
      "source": [
        "### **Setting styles**"
      ]
    },
    {
      "cell_type": "code",
      "metadata": {
        "id": "qZcmVrKWh8K7"
      },
      "source": [
        "plt.style.use('classic')"
      ],
      "execution_count": 3,
      "outputs": []
    },
    {
      "cell_type": "markdown",
      "metadata": {
        "id": "eQ8AguLaiJDW"
      },
      "source": [
        "### **Displaying plots**\n",
        "Matplotlib plots can either be displayed via a script, IPython terminal or IPython notebook"
      ]
    },
    {
      "cell_type": "markdown",
      "metadata": {
        "id": "sNk-ycl8jk94"
      },
      "source": [
        "**Plotting from a script**\n",
        "\n",
        "plt.show() at the end of the script, and should be used only once per python session."
      ]
    },
    {
      "cell_type": "markdown",
      "metadata": {
        "id": "gYh9rX9tjoBo"
      },
      "source": [
        "\n",
        "**Plotting from an IPython shell**\n",
        "\n",
        "To enable this mode, you can use the %matplotlib magic command after starting ipython.\n",
        "At this point, any plt plot command will cause a figure window to open, and further commands can be run to update the plot."
      ]
    },
    {
      "cell_type": "markdown",
      "metadata": {
        "id": "_4WrluMylbeo"
      },
      "source": [
        "**Plotting from an IPython notebook**\n",
        "\n",
        "Plotting interactively within an IPython notebook can be done with the %matplotlib command, and works in a similar way to the IPython shell. In the IPython notebook, you also have the option of embedding graphics directly in the notebook, with two possible options:\n",
        "\n",
        "1.   %matplotlib notebook will lead to interactive plots embedded within the notebook\n",
        "2.   %matplotlib inline will lead to static images of your plot embedded in the notebook\n",
        "\n"
      ]
    },
    {
      "cell_type": "code",
      "metadata": {
        "id": "BW4p7g2CinNP"
      },
      "source": [
        "%matplotlib inline"
      ],
      "execution_count": 4,
      "outputs": []
    },
    {
      "cell_type": "markdown",
      "metadata": {
        "id": "k3I2nA9Nl3wo"
      },
      "source": [
        "After running this command (it needs to be done only once per kernel/session), any cell within the notebook that creates a plot will embed a PNG image of the resulting graphic:"
      ]
    },
    {
      "cell_type": "code",
      "metadata": {
        "colab": {
          "base_uri": "https://localhost:8080/",
          "height": 273
        },
        "id": "FFfP3ZzFl4iN",
        "outputId": "d18c28ef-1896-49c7-9978-cb4c14c97323"
      },
      "source": [
        "import numpy as np\n",
        "x = np.linspace(0, 10, 100)\n",
        "\n",
        "fig = plt.figure()\n",
        "plt.plot(x, np.sin(x), '-')\n",
        "plt.plot(x, np.cos(x), '--');"
      ],
      "execution_count": 5,
      "outputs": [
        {
          "output_type": "display_data",
          "data": {
            "image/png": "[encoded data removed]",
            "text/plain": [
              "<Figure size 432x288 with 1 Axes>"
            ]
          },
          "metadata": {
            "needs_background": "light"
          }
        }
      ]
    },
    {
      "cell_type": "markdown",
      "metadata": {
        "id": "yJTVkvzqnfEF"
      },
      "source": [
        "### **Saving figures to a file**\n",
        "One nice feature of Matplotlib is the ability to save figures in a wide variety of formats. Saving a figure can be done using the savefig() command."
      ]
    },
    {
      "cell_type": "code",
      "metadata": {
        "id": "pWkWTRM1ninO"
      },
      "source": [
        "fig.savefig('my_figure.png')"
      ],
      "execution_count": 6,
      "outputs": []
    },
    {
      "cell_type": "markdown",
      "metadata": {
        "id": "qUn32IBxnzly"
      },
      "source": [
        "This saves the previous figure in the current directory. The list of supported file types can be found for your system by using the following method of the figure canvas object:"
      ]
    },
    {
      "cell_type": "code",
      "metadata": {
        "colab": {
          "base_uri": "https://localhost:8080/"
        },
        "id": "itjguz07n6qy",
        "outputId": "c183d77b-288f-4543-e280-2a7f26be91dd"
      },
      "source": [
        "fig.canvas.get_supported_filetypes()"
      ],
      "execution_count": 7,
      "outputs": [
        {
          "output_type": "execute_result",
          "data": {
            "text/plain": [
              "{'eps': 'Encapsulated Postscript',\n",
              " 'jpeg': 'Joint Photographic Experts Group',\n",
              " 'jpg': 'Joint Photographic Experts Group',\n",
              " 'pdf': 'Portable Document Format',\n",
              " 'pgf': 'PGF code for LaTeX',\n",
              " 'png': 'Portable Network Graphics',\n",
              " 'ps': 'Postscript',\n",
              " 'raw': 'Raw RGBA bitmap',\n",
              " 'rgba': 'Raw RGBA bitmap',\n",
              " 'svg': 'Scalable Vector Graphics',\n",
              " 'svgz': 'Scalable Vector Graphics',\n",
              " 'tif': 'Tagged Image File Format',\n",
              " 'tiff': 'Tagged Image File Format'}"
            ]
          },
          "metadata": {},
          "execution_count": 7
        }
      ]
    },
    {
      "cell_type": "markdown",
      "metadata": {
        "id": "MAdzAbxCoPVr"
      },
      "source": [
        "### **Dual interfaces**\n",
        "Matplotlib has convenient MATLAB-style state-based interface, and a more powerful object-oriented interface.\n",
        "\n",
        "\n",
        "**MATLAB-style Interface**\n",
        "Reflects MATLAB commands.\n",
        "This interface is stateful: it keeps track of the \"current\" figure and axes, which are where all plt commands are applied. You can get a reference to these using the plt.gcf() (get current figure) and plt.gca() (get current axes) routines."
      ]
    },
    {
      "cell_type": "code",
      "metadata": {
        "colab": {
          "base_uri": "https://localhost:8080/",
          "height": 273
        },
        "id": "gjvEt3AToUuF",
        "outputId": "1571530c-89a4-4b10-ba22-c58bf2a4cd82"
      },
      "source": [
        "plt.figure()  # create a plot figure\n",
        "\n",
        "# create the first of two panels and set current axis\n",
        "plt.subplot(2, 1, 1) # (rows, columns, panel number)\n",
        "plt.plot(x, np.sin(x))\n",
        "\n",
        "# create the second panel and set current axis\n",
        "plt.subplot(2, 1, 2)\n",
        "plt.plot(x, np.cos(x));"
      ],
      "execution_count": 8,
      "outputs": [
        {
          "output_type": "display_data",
          "data": {
            "image/png": "[encoded data removed]",
            "text/plain": [
              "<Figure size 432x288 with 2 Axes>"
            ]
          },
          "metadata": {
            "needs_background": "light"
          }
        }
      ]
    },
    {
      "cell_type": "markdown",
      "metadata": {
        "id": "Y5un5AoNsM2o"
      },
      "source": [
        "**Object-oriented interface**\n",
        "\n",
        "The object-oriented interface is available for these more complicated situations, and for when you want more control over your figure. Rather than depending on some notion of an \"active\" figure or axes, in the object-oriented interface the plotting functions are methods of explicit Figure and Axes objects. To re-create the previous plot using this style of plotting, you might do the following:"
      ]
    },
    {
      "cell_type": "code",
      "metadata": {
        "colab": {
          "base_uri": "https://localhost:8080/",
          "height": 273
        },
        "id": "xYf5Tnz9s1_V",
        "outputId": "5e75065e-cba7-45b7-b246-07a5eab68fcb"
      },
      "source": [
        "# First create a grid of plots\n",
        "# ax will be an array of two Axes objects\n",
        "fig, ax = plt.subplots(2)\n",
        "\n",
        "# Call plot() method on the appropriate object\n",
        "ax[0].plot(x, np.sin(x))\n",
        "ax[1].plot(x, np.cos(x));"
      ],
      "execution_count": 9,
      "outputs": [
        {
          "output_type": "display_data",
          "data": {
            "image/png": "[encoded data removed]",
            "text/plain": [
              "<Figure size 432x288 with 2 Axes>"
            ]
          },
          "metadata": {
            "needs_background": "light"
          }
        }
      ]
    }
  ]
}