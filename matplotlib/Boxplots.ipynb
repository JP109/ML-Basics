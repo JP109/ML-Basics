{
  "nbformat": 4,
  "nbformat_minor": 0,
  "metadata": {
    "colab": {
      "name": "Boxplots.ipynb",
      "provenance": [],
      "authorship_tag": "ABX9TyNtZ/csnHqxX4majVuTI0Uo",
      "include_colab_link": true
    },
    "kernelspec": {
      "name": "python3",
      "display_name": "Python 3"
    },
    "language_info": {
      "name": "python"
    }
  },
  "cells": [
    {
      "cell_type": "markdown",
      "metadata": {
        "id": "view-in-github",
        "colab_type": "text"
      },
      "source": [
        "<a href=\"https://colab.research.google.com/github/JP109/ML-Basics/blob/main/matplotlib/Boxplots.ipynb\" target=\"_parent\"><img src=\"https://colab.research.google.com/assets/colab-badge.svg\" alt=\"Open In Colab\"/></a>"
      ]
    },
    {
      "cell_type": "code",
      "metadata": {
        "id": "9-5ZwXgm3V84"
      },
      "source": [
        "import numpy as np\n",
        "import matplotlib.pyplot as plt\n",
        "\n",
        "# Fixing random state for reproducibility\n",
        "np.random.seed(19680801)\n",
        "\n",
        "# fake up some data\n",
        "spread = np.random.rand(50) * 100\n",
        "center = np.ones(25) * 50\n",
        "flier_high = np.random.rand(10) * 100 + 100\n",
        "flier_low = np.random.rand(10) * -100\n",
        "data = np.concatenate((spread, center, flier_high, flier_low))"
      ],
      "execution_count": 2,
      "outputs": []
    },
    {
      "cell_type": "markdown",
      "metadata": {
        "id": "WSnqiD6H_5n8"
      },
      "source": [
        "### **1. Basic plot**"
      ]
    },
    {
      "cell_type": "code",
      "metadata": {
        "colab": {
          "base_uri": "https://localhost:8080/",
          "height": 415
        },
        "id": "ASsOK_LH-V9h",
        "outputId": "fe2ee612-cb02-48b0-a12d-f42d414dc6c1"
      },
      "source": [
        "fig1, ax1 = plt.subplots()\n",
        "ax1.set_title('Basic Plot')\n",
        "ax1.boxplot(data)"
      ],
      "execution_count": 3,
      "outputs": [
        {
          "output_type": "execute_result",
          "data": {
            "text/plain": [
              "{'boxes': [<matplotlib.lines.Line2D at 0x7f1357cd5d10>],\n",
              " 'caps': [<matplotlib.lines.Line2D at 0x7f1351bce850>,\n",
              "  <matplotlib.lines.Line2D at 0x7f1351bced90>],\n",
              " 'fliers': [<matplotlib.lines.Line2D at 0x7f1351bd5890>],\n",
              " 'means': [],\n",
              " 'medians': [<matplotlib.lines.Line2D at 0x7f1351bd5350>],\n",
              " 'whiskers': [<matplotlib.lines.Line2D at 0x7f1351bc2d90>,\n",
              "  <matplotlib.lines.Line2D at 0x7f1351bce310>]}"
            ]
          },
          "metadata": {},
          "execution_count": 3
        },
        {
          "output_type": "display_data",
          "data": {
            "image/png": "[encoded data removed]",
            "text/plain": [
              "<Figure size 432x288 with 1 Axes>"
            ]
          },
          "metadata": {
            "needs_background": "light"
          }
        }
      ]
    },
    {
      "cell_type": "markdown",
      "metadata": {
        "id": "jE5mbevqAFqV"
      },
      "source": [
        "### **2. Notched boxplot**"
      ]
    },
    {
      "cell_type": "code",
      "metadata": {
        "colab": {
          "base_uri": "https://localhost:8080/",
          "height": 415
        },
        "id": "L2lIr1E7-bMQ",
        "outputId": "3fd3ede2-5a9c-4492-bc4a-bee81f22ca57"
      },
      "source": [
        "fig2, ax2 = plt.subplots()\n",
        "ax2.set_title('Notched boxes')\n",
        "ax2.boxplot(data, notch=True)"
      ],
      "execution_count": 4,
      "outputs": [
        {
          "output_type": "execute_result",
          "data": {
            "text/plain": [
              "{'boxes': [<matplotlib.lines.Line2D at 0x7f1351b46110>],\n",
              " 'caps': [<matplotlib.lines.Line2D at 0x7f135169fc10>,\n",
              "  <matplotlib.lines.Line2D at 0x7f13516a5190>],\n",
              " 'fliers': [<matplotlib.lines.Line2D at 0x7f13516a5c50>],\n",
              " 'means': [],\n",
              " 'medians': [<matplotlib.lines.Line2D at 0x7f13516a5710>],\n",
              " 'whiskers': [<matplotlib.lines.Line2D at 0x7f135169f190>,\n",
              "  <matplotlib.lines.Line2D at 0x7f135169f6d0>]}"
            ]
          },
          "metadata": {},
          "execution_count": 4
        },
        {
          "output_type": "display_data",
          "data": {
            "image/png": "[encoded data removed]",
            "text/plain": [
              "<Figure size 432x288 with 1 Axes>"
            ]
          },
          "metadata": {
            "needs_background": "light"
          }
        }
      ]
    },
    {
      "cell_type": "markdown",
      "metadata": {
        "id": "B3qfN3IXBLlM"
      },
      "source": [
        "### **3. Changed Outlier Symbols**"
      ]
    },
    {
      "cell_type": "code",
      "metadata": {
        "colab": {
          "base_uri": "https://localhost:8080/",
          "height": 415
        },
        "id": "PEEK55qS-l44",
        "outputId": "da83e453-8961-4b1c-9ce5-5f4aa2bd3863"
      },
      "source": [
        "green_diamond = dict(markerfacecolor='g', marker='D')\n",
        "fig3, ax3 = plt.subplots()\n",
        "ax3.set_title('Changed Outlier Symbols')\n",
        "ax3.boxplot(data, flierprops=green_diamond)"
      ],
      "execution_count": 5,
      "outputs": [
        {
          "output_type": "execute_result",
          "data": {
            "text/plain": [
              "{'boxes': [<matplotlib.lines.Line2D at 0x7f13516134d0>],\n",
              " 'caps': [<matplotlib.lines.Line2D at 0x7f13516184d0>,\n",
              "  <matplotlib.lines.Line2D at 0x7f1351618a10>],\n",
              " 'fliers': [<matplotlib.lines.Line2D at 0x7f135161f510>],\n",
              " 'means': [],\n",
              " 'medians': [<matplotlib.lines.Line2D at 0x7f1351618f90>],\n",
              " 'whiskers': [<matplotlib.lines.Line2D at 0x7f1351613a10>,\n",
              "  <matplotlib.lines.Line2D at 0x7f1351613f50>]}"
            ]
          },
          "metadata": {},
          "execution_count": 5
        },
        {
          "output_type": "display_data",
          "data": {
            "image/png": "[encoded data removed]",
            "text/plain": [
              "<Figure size 432x288 with 1 Axes>"
            ]
          },
          "metadata": {
            "needs_background": "light"
          }
        }
      ]
    },
    {
      "cell_type": "markdown",
      "metadata": {
        "id": "YhoSqzZXBPwW"
      },
      "source": [
        "### **4. Hide Outlier Points**"
      ]
    },
    {
      "cell_type": "code",
      "metadata": {
        "colab": {
          "base_uri": "https://localhost:8080/",
          "height": 415
        },
        "id": "sqp-9IJf-m3s",
        "outputId": "1b6b6a17-093e-442e-a7d6-ba8cb3c1051f"
      },
      "source": [
        "fig4, ax4 = plt.subplots()\n",
        "ax4.set_title('Hide Outlier Points')\n",
        "ax4.boxplot(data, showfliers=False)"
      ],
      "execution_count": 6,
      "outputs": [
        {
          "output_type": "execute_result",
          "data": {
            "text/plain": [
              "{'boxes': [<matplotlib.lines.Line2D at 0x7f13516067d0>],\n",
              " 'caps': [<matplotlib.lines.Line2D at 0x7f135160b7d0>,\n",
              "  <matplotlib.lines.Line2D at 0x7f135160bd10>],\n",
              " 'fliers': [],\n",
              " 'means': [],\n",
              " 'medians': [<matplotlib.lines.Line2D at 0x7f13515922d0>],\n",
              " 'whiskers': [<matplotlib.lines.Line2D at 0x7f1351606d10>,\n",
              "  <matplotlib.lines.Line2D at 0x7f135160b290>]}"
            ]
          },
          "metadata": {},
          "execution_count": 6
        },
        {
          "output_type": "display_data",
          "data": {
            "image/png": "[encoded data removed]",
            "text/plain": [
              "<Figure size 432x288 with 1 Axes>"
            ]
          },
          "metadata": {
            "needs_background": "light"
          }
        }
      ]
    },
    {
      "cell_type": "markdown",
      "metadata": {
        "id": "aMCLF5FeBTzQ"
      },
      "source": [
        "## **5. Horizontal Boxplot**"
      ]
    },
    {
      "cell_type": "code",
      "metadata": {
        "colab": {
          "base_uri": "https://localhost:8080/",
          "height": 415
        },
        "id": "yhJxEWo6-qDO",
        "outputId": "8128ed06-4d36-4583-eac4-da11f64ff851"
      },
      "source": [
        "red_square = dict(markerfacecolor='r', marker='s')\n",
        "fig5, ax5 = plt.subplots()\n",
        "ax5.set_title('Horizontal Boxes')\n",
        "ax5.boxplot(data, vert=False, flierprops=red_square)"
      ],
      "execution_count": 7,
      "outputs": [
        {
          "output_type": "execute_result",
          "data": {
            "text/plain": [
              "{'boxes': [<matplotlib.lines.Line2D at 0x7f1351577590>],\n",
              " 'caps': [<matplotlib.lines.Line2D at 0x7f135157c590>,\n",
              "  <matplotlib.lines.Line2D at 0x7f135157cad0>],\n",
              " 'fliers': [<matplotlib.lines.Line2D at 0x7f13515825d0>],\n",
              " 'means': [],\n",
              " 'medians': [<matplotlib.lines.Line2D at 0x7f1351582090>],\n",
              " 'whiskers': [<matplotlib.lines.Line2D at 0x7f1351577ad0>,\n",
              "  <matplotlib.lines.Line2D at 0x7f135157c050>]}"
            ]
          },
          "metadata": {},
          "execution_count": 7
        },
        {
          "output_type": "display_data",
          "data": {
            "image/png": "[encoded data removed]",
            "text/plain": [
              "<Figure size 432x288 with 1 Axes>"
            ]
          },
          "metadata": {
            "needs_background": "light"
          }
        }
      ]
    },
    {
      "cell_type": "markdown",
      "metadata": {
        "id": "Du0XkieUBY2q"
      },
      "source": [
        "### **6. Changed whisker length**"
      ]
    },
    {
      "cell_type": "code",
      "metadata": {
        "colab": {
          "base_uri": "https://localhost:8080/",
          "height": 415
        },
        "id": "1dg2TX3y-wP3",
        "outputId": "7f2e5c73-9129-4295-eabd-dd27a38fc024"
      },
      "source": [
        "fig6, ax6 = plt.subplots()\n",
        "ax6.set_title('Shorter Whisker Length')\n",
        "ax6.boxplot(data, flierprops=red_square, vert=False, whis=0.75)"
      ],
      "execution_count": 8,
      "outputs": [
        {
          "output_type": "execute_result",
          "data": {
            "text/plain": [
              "{'boxes': [<matplotlib.lines.Line2D at 0x7f13514e6510>],\n",
              " 'caps': [<matplotlib.lines.Line2D at 0x7f13514ed510>,\n",
              "  <matplotlib.lines.Line2D at 0x7f13514eda50>],\n",
              " 'fliers': [<matplotlib.lines.Line2D at 0x7f13514f3550>],\n",
              " 'means': [],\n",
              " 'medians': [<matplotlib.lines.Line2D at 0x7f13514edfd0>],\n",
              " 'whiskers': [<matplotlib.lines.Line2D at 0x7f13514e6a50>,\n",
              "  <matplotlib.lines.Line2D at 0x7f13514e6f90>]}"
            ]
          },
          "metadata": {},
          "execution_count": 8
        },
        {
          "output_type": "display_data",
          "data": {
            "image/png": "[encoded data removed]",
            "text/plain": [
              "<Figure size 432x288 with 1 Axes>"
            ]
          },
          "metadata": {
            "needs_background": "light"
          }
        }
      ]
    },
    {
      "cell_type": "markdown",
      "metadata": {
        "id": "7JRU0YlpBewR"
      },
      "source": [
        "### **7. Multiple box plots on one axis**"
      ]
    },
    {
      "cell_type": "code",
      "metadata": {
        "colab": {
          "base_uri": "https://localhost:8080/",
          "height": 334
        },
        "id": "2Bhu_1np--Wd",
        "outputId": "634065ed-ec6b-4cf2-ea4c-645c37ae7617"
      },
      "source": [
        "spread = np.random.rand(50) * 100\n",
        "center = np.ones(25) * 40\n",
        "flier_high = np.random.rand(10) * 100 + 100\n",
        "flier_low = np.random.rand(10) * -100\n",
        "d2 = np.concatenate((spread, center, flier_high, flier_low))\n",
        "\n",
        "# Making a 2-D array only works if all the columns are the same length. \n",
        "# If they are not, then use a list instead. \n",
        "# This is actually more efficient because boxplot converts a 2-D array into a list of vectors internally anyway.\n",
        "\n",
        "data = [data, d2, d2[::2]]\n",
        "fig7, ax7 = plt.subplots()\n",
        "ax7.set_title('Multiple Samples with Different sizes')\n",
        "ax7.boxplot(data)\n",
        "\n",
        "plt.show()"
      ],
      "execution_count": 9,
      "outputs": [
        {
          "output_type": "stream",
          "name": "stderr",
          "text": [
            "/usr/local/lib/python3.7/dist-packages/numpy/core/_asarray.py:83: VisibleDeprecationWarning: Creating an ndarray from ragged nested sequences (which is a list-or-tuple of lists-or-tuples-or ndarrays with different lengths or shapes) is deprecated. If you meant to do this, you must specify 'dtype=object' when creating the ndarray\n",
            "  return array(a, dtype, copy=False, order=order)\n"
          ]
        },
        {
          "output_type": "display_data",
          "data": {
            "image/png": "[encoded data removed]",
            "text/plain": [
              "<Figure size 432x288 with 1 Axes>"
            ]
          },
          "metadata": {
            "needs_background": "light"
          }
        }
      ]
    },
    {
      "cell_type": "markdown",
      "metadata": {
        "id": "7RE33Yr3B5ik"
      },
      "source": [
        "### **8. Boxplot vs Violin plot**"
      ]
    },
    {
      "cell_type": "code",
      "metadata": {
        "colab": {
          "base_uri": "https://localhost:8080/",
          "height": 295
        },
        "id": "MNvjQwH_B90l",
        "outputId": "54794791-c060-43dd-ec63-f50e36d37f58"
      },
      "source": [
        "import matplotlib.pyplot as plt\n",
        "import numpy as np\n",
        "\n",
        "fig, axes = plt.subplots(nrows=1, ncols=2, figsize=(9, 4))\n",
        "\n",
        "# generate some random test data\n",
        "all_data = [np.random.normal(0, std, 100) for std in range(6, 10)]\n",
        "\n",
        "# plot violin plot\n",
        "axes[0].violinplot(all_data,\n",
        "                   showmeans=False,\n",
        "                   showmedians=True)\n",
        "axes[0].set_title('violin plot')\n",
        "\n",
        "# plot box plot\n",
        "axes[1].boxplot(all_data)\n",
        "axes[1].set_title('box plot')\n",
        "\n",
        "# adding horizontal grid lines\n",
        "for ax in axes:\n",
        "    ax.yaxis.grid(True)\n",
        "    ax.set_xticks([y+1 for y in range(len(all_data))])\n",
        "    ax.set_xlabel('xlabel')\n",
        "    ax.set_ylabel('ylabel')\n",
        "\n",
        "# add x-tick labels\n",
        "plt.setp(axes, xticks=[y+1 for y in range(len(all_data))],\n",
        "         xticklabels=['x1', 'x2', 'x3', 'x4'])\n",
        "plt.show()"
      ],
      "execution_count": 11,
      "outputs": [
        {
          "output_type": "display_data",
          "data": {
            "image/png": "[encoded data removed]",
            "text/plain": [
              "<Figure size 648x288 with 2 Axes>"
            ]
          },
          "metadata": {
            "needs_background": "light"
          }
        }
      ]
    }
  ]
}