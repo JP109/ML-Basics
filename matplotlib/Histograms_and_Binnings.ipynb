{
  "nbformat": 4,
  "nbformat_minor": 0,
  "metadata": {
    "colab": {
      "name": "Histograms and Binnings.ipynb",
      "provenance": [],
      "authorship_tag": "ABX9TyNMnzFxyot3i6WyUXKbwyHe",
      "include_colab_link": true
    },
    "kernelspec": {
      "name": "python3",
      "display_name": "Python 3"
    },
    "language_info": {
      "name": "python"
    }
  },
  "cells": [
    {
      "cell_type": "markdown",
      "metadata": {
        "id": "view-in-github",
        "colab_type": "text"
      },
      "source": [
        "<a href=\"https://colab.research.google.com/github/JP109/ML-Basics/blob/main/matplotlib/Histograms_and_Binnings.ipynb\" target=\"_parent\"><img src=\"https://colab.research.google.com/assets/colab-badge.svg\" alt=\"Open In Colab\"/></a>"
      ]
    },
    {
      "cell_type": "markdown",
      "metadata": {
        "id": "G0ec7JerNIhU"
      },
      "source": [
        "## **1. 1D Histograms, binning and density**"
      ]
    },
    {
      "cell_type": "code",
      "metadata": {
        "id": "iXin4WtLuv-D"
      },
      "source": [
        "%matplotlib inline\n",
        "import numpy as np\n",
        "import matplotlib.pyplot as plt\n",
        "plt.style.use('seaborn-white')\n",
        "\n",
        "data = np.random.randn(1000)"
      ],
      "execution_count": 1,
      "outputs": []
    },
    {
      "cell_type": "code",
      "metadata": {
        "colab": {
          "base_uri": "https://localhost:8080/",
          "height": 346
        },
        "id": "I7Sjs2bOLuoo",
        "outputId": "b948acab-721c-4ae7-a063-2ff0a155ce12"
      },
      "source": [
        "plt.hist(data)"
      ],
      "execution_count": 2,
      "outputs": [
        {
          "output_type": "execute_result",
          "data": {
            "text/plain": [
              "(array([ 14.,  51., 116., 177., 238., 185., 120.,  73.,  17.,   9.]),\n",
              " array([-2.66326087, -2.09683551, -1.53041015, -0.96398479, -0.39755943,\n",
              "         0.16886593,  0.73529129,  1.30171665,  1.86814201,  2.43456737,\n",
              "         3.00099273]),\n",
              " <a list of 10 Patch objects>)"
            ]
          },
          "metadata": {},
          "execution_count": 2
        },
        {
          "output_type": "display_data",
          "data": {
            "image/png": "[encoded data removed]",
            "text/plain": [
              "<Figure size 432x288 with 1 Axes>"
            ]
          },
          "metadata": {
            "needs_background": "light"
          }
        }
      ]
    },
    {
      "cell_type": "markdown",
      "metadata": {
        "id": "2ilre4kNL77n"
      },
      "source": [
        "The hist() function has many options to tune both the calculation and the display; here's an example of a more customized histogram:"
      ]
    },
    {
      "cell_type": "code",
      "metadata": {
        "colab": {
          "base_uri": "https://localhost:8080/",
          "height": 498
        },
        "id": "yC4jxhDDL889",
        "outputId": "fefdca81-4d0e-43d1-d806-51412745241d"
      },
      "source": [
        "plt.hist(data, density=True, bins=30, alpha=0.5,\n",
        "         histtype='stepfilled', color='steelblue',\n",
        "         edgecolor='none')"
      ],
      "execution_count": 8,
      "outputs": [
        {
          "output_type": "execute_result",
          "data": {
            "text/plain": [
              "(array([0.02118549, 0.02648187, 0.02648187, 0.09003834, 0.08474197,\n",
              "        0.09533471, 0.19066943, 0.1959658 , 0.22774404, 0.22244767,\n",
              "        0.28070777, 0.43430259, 0.43959896, 0.38133886, 0.43959896,\n",
              "        0.31248601, 0.31778238, 0.34956062, 0.23833679, 0.21185492,\n",
              "        0.18537306, 0.1377057 , 0.11652021, 0.13240933, 0.04766736,\n",
              "        0.02118549, 0.02118549, 0.03177824, 0.00529637, 0.01059275]),\n",
              " array([-2.66326087, -2.47445242, -2.28564397, -2.09683551, -1.90802706,\n",
              "        -1.71921861, -1.53041015, -1.3416017 , -1.15279325, -0.96398479,\n",
              "        -0.77517634, -0.58636789, -0.39755943, -0.20875098, -0.01994253,\n",
              "         0.16886593,  0.35767438,  0.54648283,  0.73529129,  0.92409974,\n",
              "         1.11290819,  1.30171665,  1.4905251 ,  1.67933356,  1.86814201,\n",
              "         2.05695046,  2.24575892,  2.43456737,  2.62337582,  2.81218428,\n",
              "         3.00099273]),\n",
              " <a list of 1 Patch objects>)"
            ]
          },
          "metadata": {},
          "execution_count": 8
        },
        {
          "output_type": "display_data",
          "data": {
            "image/png": "[encoded data removed]",
            "text/plain": [
              "<Figure size 432x288 with 1 Axes>"
            ]
          },
          "metadata": {
            "needs_background": "light"
          }
        }
      ]
    },
    {
      "cell_type": "markdown",
      "metadata": {
        "id": "8yIesE9eMYLX"
      },
      "source": [
        "Comparing histograms with histtype='stepfilled' along with some transparency alpha (density=True makes area under graph = 1)"
      ]
    },
    {
      "cell_type": "code",
      "metadata": {
        "colab": {
          "base_uri": "https://localhost:8080/",
          "height": 262
        },
        "id": "bI-rgPISMaur",
        "outputId": "5bfab793-a893-48ae-826f-81441cddc19d"
      },
      "source": [
        "x1 = np.random.normal(0, 0.8, 1000)\n",
        "x2 = np.random.normal(-2, 1, 1000)\n",
        "x3 = np.random.normal(3, 2, 1000)\n",
        "\n",
        "kwargs = dict(histtype='stepfilled', alpha=0.3, density=True, bins=40)\n",
        "\n",
        "plt.hist(x1, **kwargs)\n",
        "plt.hist(x2, **kwargs)\n",
        "plt.hist(x3, **kwargs);"
      ],
      "execution_count": 9,
      "outputs": [
        {
          "output_type": "display_data",
          "data": {
            "image/png": "[encoded data removed]",
            "text/plain": [
              "<Figure size 432x288 with 1 Axes>"
            ]
          },
          "metadata": {
            "needs_background": "light"
          }
        }
      ]
    },
    {
      "cell_type": "markdown",
      "metadata": {
        "id": "Fhtd7Yz3NR1J"
      },
      "source": [
        "## **2. 2D Histograms, binning and density**\n",
        "We can also create histograms in two-dimensions by dividing points among two-dimensional bins. "
      ]
    },
    {
      "cell_type": "code",
      "metadata": {
        "id": "GGa1MonGNWdn"
      },
      "source": [
        "mean = [0, 0]\n",
        "cov = [[1, 1], [1, 2]]\n",
        "x, y = np.random.multivariate_normal(mean, cov, 10000).T"
      ],
      "execution_count": 10,
      "outputs": []
    },
    {
      "cell_type": "markdown",
      "metadata": {
        "id": "ynlokzG3PpoX"
      },
      "source": [
        "**plt.hist2d**"
      ]
    },
    {
      "cell_type": "code",
      "metadata": {
        "colab": {
          "base_uri": "https://localhost:8080/",
          "height": 264
        },
        "id": "oe-CLWGPPt7A",
        "outputId": "8e62203d-ee6b-49f4-f801-d9f2712d986b"
      },
      "source": [
        "plt.hist2d(x, y, bins=30, cmap='Blues')\n",
        "cb = plt.colorbar()\n",
        "cb.set_label('counts in bin')"
      ],
      "execution_count": 11,
      "outputs": [
        {
          "output_type": "display_data",
          "data": {
            "image/png": "[encoded data removed]",
            "text/plain": [
              "<Figure size 432x288 with 2 Axes>"
            ]
          },
          "metadata": {
            "needs_background": "light"
          }
        }
      ]
    },
    {
      "cell_type": "markdown",
      "metadata": {
        "id": "7WQmHf9rP6vG"
      },
      "source": [
        "Just as with plt.hist, plt.hist2d has a number of extra options to fine-tune the plot and the binning, which are nicely outlined in the function docstring. Further, just as plt.hist has a counterpart in np.histogram, plt.hist2d has a counterpart in np.histogram2d, which can be used as follows:"
      ]
    },
    {
      "cell_type": "code",
      "metadata": {
        "id": "lD5dsgfaP7ix"
      },
      "source": [
        "counts, xedges, yedges = np.histogram2d(x, y, bins=30)"
      ],
      "execution_count": 12,
      "outputs": []
    },
    {
      "cell_type": "markdown",
      "metadata": {
        "id": "sC8cjoRzQU-R"
      },
      "source": [
        "For the generalization of this histogram binning in dimensions higher than two, see the np.histogramdd function."
      ]
    },
    {
      "cell_type": "markdown",
      "metadata": {
        "id": "7ZxnIeSvQHmP"
      },
      "source": [
        "**plt.hexbin: Hexagonal binnings**\n",
        "\n",
        "The two-dimensional histogram creates a tesselation of squares across the axes. Another natural shape for such a tesselation is the regular hexagon. For this purpose, Matplotlib provides the plt.hexbin routine, which will represents a two-dimensional dataset binned within a grid of hexagons:"
      ]
    },
    {
      "cell_type": "code",
      "metadata": {
        "colab": {
          "base_uri": "https://localhost:8080/",
          "height": 262
        },
        "id": "9S3bmOWAQMAS",
        "outputId": "8cc03611-3e14-4973-bfb4-626f21ef727e"
      },
      "source": [
        "plt.hexbin(x, y, gridsize=30, cmap='Blues')\n",
        "cb = plt.colorbar(label='count in bin')"
      ],
      "execution_count": 13,
      "outputs": [
        {
          "output_type": "display_data",
          "data": {
            "image/png": "[encoded data removed]",
            "text/plain": [
              "<Figure size 432x288 with 2 Axes>"
            ]
          },
          "metadata": {
            "needs_background": "light"
          }
        }
      ]
    },
    {
      "cell_type": "markdown",
      "metadata": {
        "id": "5d3UhxW-QeU9"
      },
      "source": [
        "## **3. Kernel Density Estimator**"
      ]
    },
    {
      "cell_type": "code",
      "metadata": {
        "colab": {
          "base_uri": "https://localhost:8080/",
          "height": 266
        },
        "id": "sGd5ERPwQiSQ",
        "outputId": "26c287a8-a32d-4487-de50-15f24d8e8e42"
      },
      "source": [
        "from scipy.stats import gaussian_kde\n",
        "\n",
        "# fit an array of size [Ndim, Nsamples]\n",
        "data = np.vstack([x, y])\n",
        "kde = gaussian_kde(data)\n",
        "\n",
        "# evaluate on a regular grid\n",
        "xgrid = np.linspace(-3.5, 3.5, 40)\n",
        "ygrid = np.linspace(-6, 6, 40)\n",
        "Xgrid, Ygrid = np.meshgrid(xgrid, ygrid)\n",
        "Z = kde.evaluate(np.vstack([Xgrid.ravel(), Ygrid.ravel()]))\n",
        "\n",
        "# Plot the result as an image\n",
        "plt.imshow(Z.reshape(Xgrid.shape),\n",
        "           origin='lower', aspect='auto',\n",
        "           extent=[-3.5, 3.5, -6, 6],\n",
        "           cmap='Blues')\n",
        "cb = plt.colorbar()\n",
        "cb.set_label(\"density\")"
      ],
      "execution_count": 14,
      "outputs": [
        {
          "output_type": "display_data",
          "data": {
            "image/png": "[encoded data removed]",
            "text/plain": [
              "<Figure size 432x288 with 2 Axes>"
            ]
          },
          "metadata": {
            "needs_background": "light"
          }
        }
      ]
    }
  ]
}