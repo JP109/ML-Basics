{
  "nbformat": 4,
  "nbformat_minor": 0,
  "metadata": {
    "colab": {
      "name": "Numpy.ipynb",
      "provenance": [],
      "collapsed_sections": [
        "WiJxZszrB8DC",
        "Lgf0Sf9dvjNZ",
        "R5sXwSaWyLEa",
        "rjbBTSI845gD",
        "Vo_VLtri5i1z",
        "-xxc7vVFHqo3"
      ],
      "authorship_tag": "ABX9TyPUQMnetC8XsHOkkNbtni0N",
      "include_colab_link": true
    },
    "kernelspec": {
      "name": "python3",
      "display_name": "Python 3"
    },
    "language_info": {
      "name": "python"
    }
  },
  "cells": [
    {
      "cell_type": "markdown",
      "metadata": {
        "id": "view-in-github",
        "colab_type": "text"
      },
      "source": [
        "<a href=\"https://colab.research.google.com/github/JP109/ML-Basics/blob/main/Numpy.ipynb\" target=\"_parent\"><img src=\"https://colab.research.google.com/assets/colab-badge.svg\" alt=\"Open In Colab\"/></a>"
      ]
    },
    {
      "cell_type": "markdown",
      "metadata": {
        "id": "WiJxZszrB8DC"
      },
      "source": [
        "# **0. Import**"
      ]
    },
    {
      "cell_type": "code",
      "metadata": {
        "id": "X7mYYdVVu7ZQ"
      },
      "source": [
        "import numpy as np"
      ],
      "execution_count": 1,
      "outputs": []
    },
    {
      "cell_type": "markdown",
      "metadata": {
        "id": "Lgf0Sf9dvjNZ"
      },
      "source": [
        "# **1. Basics**"
      ]
    },
    {
      "cell_type": "code",
      "metadata": {
        "colab": {
          "base_uri": "https://localhost:8080/"
        },
        "id": "ywmzihBKvm5e",
        "outputId": "5a5ac73d-bf6a-4bfd-e918-7b60eef8b671"
      },
      "source": [
        "# Create 1D numpy array\n",
        "a = np.array([1,2,3], dtype='int32')\n",
        "print(a)"
      ],
      "execution_count": 2,
      "outputs": [
        {
          "output_type": "stream",
          "name": "stdout",
          "text": [
            "[1 2 3]\n"
          ]
        }
      ]
    },
    {
      "cell_type": "code",
      "metadata": {
        "colab": {
          "base_uri": "https://localhost:8080/"
        },
        "id": "UIohtkB7wW2k",
        "outputId": "4f9e99e6-5e53-4209-a09a-69c2daaae156"
      },
      "source": [
        "# Create 2D numpy array\n",
        "b = np.array([[1,2,3],[4,5,6]])\n",
        "print(b)"
      ],
      "execution_count": 3,
      "outputs": [
        {
          "output_type": "stream",
          "name": "stdout",
          "text": [
            "[[1 2 3]\n",
            " [4 5 6]]\n"
          ]
        }
      ]
    },
    {
      "cell_type": "code",
      "metadata": {
        "colab": {
          "base_uri": "https://localhost:8080/"
        },
        "id": "apNEtKHiwp4e",
        "outputId": "2cdece30-6cd4-4313-a7d4-5b9ad5561f8d"
      },
      "source": [
        "# Get dimension\n",
        "b.ndim"
      ],
      "execution_count": 4,
      "outputs": [
        {
          "output_type": "execute_result",
          "data": {
            "text/plain": [
              "2"
            ]
          },
          "metadata": {},
          "execution_count": 4
        }
      ]
    },
    {
      "cell_type": "code",
      "metadata": {
        "colab": {
          "base_uri": "https://localhost:8080/"
        },
        "id": "9TpOEi1VwxOx",
        "outputId": "9c9985b3-59f3-4946-9019-ea48cfd9a9c7"
      },
      "source": [
        "# Get shape\n",
        "b.shape"
      ],
      "execution_count": 5,
      "outputs": [
        {
          "output_type": "execute_result",
          "data": {
            "text/plain": [
              "(2, 3)"
            ]
          },
          "metadata": {},
          "execution_count": 5
        }
      ]
    },
    {
      "cell_type": "code",
      "metadata": {
        "colab": {
          "base_uri": "https://localhost:8080/"
        },
        "id": "0s6FKaDzw4vw",
        "outputId": "9f3309ea-fa9a-4ace-ceb7-cea44353d1c3"
      },
      "source": [
        "# Get type\n",
        "b.dtype"
      ],
      "execution_count": 6,
      "outputs": [
        {
          "output_type": "execute_result",
          "data": {
            "text/plain": [
              "dtype('int64')"
            ]
          },
          "metadata": {},
          "execution_count": 6
        }
      ]
    },
    {
      "cell_type": "code",
      "metadata": {
        "colab": {
          "base_uri": "https://localhost:8080/"
        },
        "id": "ShwOz9DSw-0f",
        "outputId": "8921d6bc-87b4-4e8e-e1c2-86a487d61417"
      },
      "source": [
        "# Get size (in bytes)\n",
        "a.itemsize"
      ],
      "execution_count": 7,
      "outputs": [
        {
          "output_type": "execute_result",
          "data": {
            "text/plain": [
              "4"
            ]
          },
          "metadata": {},
          "execution_count": 7
        }
      ]
    },
    {
      "cell_type": "code",
      "metadata": {
        "colab": {
          "base_uri": "https://localhost:8080/"
        },
        "id": "BY5N11mex5jt",
        "outputId": "ab1369f9-c193-471c-83f5-7585c806bc1c"
      },
      "source": [
        "# Get no. of elements\n",
        "a.size"
      ],
      "execution_count": 8,
      "outputs": [
        {
          "output_type": "execute_result",
          "data": {
            "text/plain": [
              "3"
            ]
          },
          "metadata": {},
          "execution_count": 8
        }
      ]
    },
    {
      "cell_type": "code",
      "metadata": {
        "colab": {
          "base_uri": "https://localhost:8080/"
        },
        "id": "4ZL_YGyNxMo7",
        "outputId": "118fe89b-b7af-4de7-9e5a-2597937b1605"
      },
      "source": [
        "# Get total size (a.nbytes=a.itemsize*a.size)\n",
        "a.nbytes"
      ],
      "execution_count": 9,
      "outputs": [
        {
          "output_type": "execute_result",
          "data": {
            "text/plain": [
              "12"
            ]
          },
          "metadata": {},
          "execution_count": 9
        }
      ]
    },
    {
      "cell_type": "markdown",
      "metadata": {
        "id": "7mYKg8CwyAT6"
      },
      "source": [
        "# **2. Accessing/Changing elements/rows/columns**"
      ]
    },
    {
      "cell_type": "code",
      "metadata": {
        "colab": {
          "base_uri": "https://localhost:8080/"
        },
        "id": "mb8VXxh1x_AD",
        "outputId": "2d4ba1f9-086b-4590-c65a-866e8c8f43f7"
      },
      "source": [
        "a=np.array([[1,2,3,4,5,6,7],[8,9,10,11,12,13,14]])\n",
        "print(a)"
      ],
      "execution_count": 86,
      "outputs": [
        {
          "output_type": "stream",
          "name": "stdout",
          "text": [
            "[[ 1  2  3  4  5  6  7]\n",
            " [ 8  9 10 11 12 13 14]]\n"
          ]
        }
      ]
    },
    {
      "cell_type": "code",
      "metadata": {
        "colab": {
          "base_uri": "https://localhost:8080/"
        },
        "id": "H2kOgFS0xXkh",
        "outputId": "598ef16c-33e2-4f33-ae6a-5efd3ba85bde"
      },
      "source": [
        "# Get a specific element [r,c]:\n",
        "a[1,0]"
      ],
      "execution_count": 11,
      "outputs": [
        {
          "output_type": "execute_result",
          "data": {
            "text/plain": [
              "8"
            ]
          },
          "metadata": {},
          "execution_count": 11
        }
      ]
    },
    {
      "cell_type": "code",
      "metadata": {
        "colab": {
          "base_uri": "https://localhost:8080/"
        },
        "id": "IA3GVLn5yrA7",
        "outputId": "877f4133-5c23-4b43-cf78-fdbef34f5c30"
      },
      "source": [
        "# Get a specific row:\n",
        "a[0,:]"
      ],
      "execution_count": 12,
      "outputs": [
        {
          "output_type": "execute_result",
          "data": {
            "text/plain": [
              "array([1, 2, 3, 4, 5, 6, 7])"
            ]
          },
          "metadata": {},
          "execution_count": 12
        }
      ]
    },
    {
      "cell_type": "code",
      "metadata": {
        "colab": {
          "base_uri": "https://localhost:8080/"
        },
        "id": "gm_5YNh1yzc3",
        "outputId": "4232c111-68d8-44fa-d56a-be219c9dbc79"
      },
      "source": [
        "# Get a specific column:\n",
        "a[:,6]"
      ],
      "execution_count": 13,
      "outputs": [
        {
          "output_type": "execute_result",
          "data": {
            "text/plain": [
              "array([ 7, 14])"
            ]
          },
          "metadata": {},
          "execution_count": 13
        }
      ]
    },
    {
      "cell_type": "code",
      "metadata": {
        "colab": {
          "base_uri": "https://localhost:8080/"
        },
        "id": "5UNiRaZAzEal",
        "outputId": "d22e276c-61ab-44d3-a3d6-a40ef616839e"
      },
      "source": [
        "# Get a range from a 1D array, with a stepsize [startIndex:endIndex+1:stepSize]\n",
        "a[0,0:6:2]"
      ],
      "execution_count": 14,
      "outputs": [
        {
          "output_type": "execute_result",
          "data": {
            "text/plain": [
              "array([1, 3, 5])"
            ]
          },
          "metadata": {},
          "execution_count": 14
        }
      ]
    },
    {
      "cell_type": "code",
      "metadata": {
        "colab": {
          "base_uri": "https://localhost:8080/"
        },
        "id": "fZCt022zO_S8",
        "outputId": "d5b4d90e-8a87-42d6-8ff1-d1d5b0f88f1d"
      },
      "source": [
        "# *** You can index with a list too:\n",
        "a[0,[3,4]]"
      ],
      "execution_count": 87,
      "outputs": [
        {
          "output_type": "execute_result",
          "data": {
            "text/plain": [
              "array([4, 5])"
            ]
          },
          "metadata": {},
          "execution_count": 87
        }
      ]
    },
    {
      "cell_type": "code",
      "metadata": {
        "colab": {
          "base_uri": "https://localhost:8080/"
        },
        "id": "HnoCVMosQdbS",
        "outputId": "94d1fce2-05d7-44ff-9c5d-0d6ac97223a6"
      },
      "source": [
        "np.any(a>9)"
      ],
      "execution_count": 93,
      "outputs": [
        {
          "output_type": "execute_result",
          "data": {
            "text/plain": [
              "True"
            ]
          },
          "metadata": {},
          "execution_count": 93
        }
      ]
    },
    {
      "cell_type": "code",
      "metadata": {
        "colab": {
          "base_uri": "https://localhost:8080/"
        },
        "id": "XDmBCrhHQ_yj",
        "outputId": "70a06127-fb6b-4919-9ff5-d6ccc804b7b2"
      },
      "source": [
        "np.all(a>9)"
      ],
      "execution_count": 94,
      "outputs": [
        {
          "output_type": "execute_result",
          "data": {
            "text/plain": [
              "False"
            ]
          },
          "metadata": {},
          "execution_count": 94
        }
      ]
    },
    {
      "cell_type": "code",
      "metadata": {
        "colab": {
          "base_uri": "https://localhost:8080/"
        },
        "id": "Fve2RD1URH_x",
        "outputId": "225e7aff-4b1b-4bc6-c989-4ab6f1df7c4d"
      },
      "source": [
        "np.any(a>9, axis=0)"
      ],
      "execution_count": 95,
      "outputs": [
        {
          "output_type": "execute_result",
          "data": {
            "text/plain": [
              "array([False, False,  True,  True,  True,  True,  True])"
            ]
          },
          "metadata": {},
          "execution_count": 95
        }
      ]
    },
    {
      "cell_type": "code",
      "metadata": {
        "colab": {
          "base_uri": "https://localhost:8080/"
        },
        "id": "6ZPle-ntRNvr",
        "outputId": "0a70f379-98db-4c1c-aaa6-6357285cb46c"
      },
      "source": [
        "np.all(a>9, axis=0)"
      ],
      "execution_count": 96,
      "outputs": [
        {
          "output_type": "execute_result",
          "data": {
            "text/plain": [
              "array([False, False, False, False, False, False, False])"
            ]
          },
          "metadata": {},
          "execution_count": 96
        }
      ]
    },
    {
      "cell_type": "code",
      "metadata": {
        "colab": {
          "base_uri": "https://localhost:8080/"
        },
        "id": "3Up_dQV5RSJt",
        "outputId": "973f8887-22f3-4bba-d296-01bbf747e7cd"
      },
      "source": [
        "((a>4) & (a<9))"
      ],
      "execution_count": 97,
      "outputs": [
        {
          "output_type": "execute_result",
          "data": {
            "text/plain": [
              "array([[False, False, False, False,  True,  True,  True],\n",
              "       [ True, False, False, False, False, False, False]])"
            ]
          },
          "metadata": {},
          "execution_count": 97
        }
      ]
    },
    {
      "cell_type": "code",
      "metadata": {
        "colab": {
          "base_uri": "https://localhost:8080/"
        },
        "id": "sWgDg_t9RcvA",
        "outputId": "17b8c834-2521-4c59-db3f-14a17ab5eaab"
      },
      "source": [
        "# Masking:\n",
        "(~((a>4) & (a<9)))"
      ],
      "execution_count": 98,
      "outputs": [
        {
          "output_type": "execute_result",
          "data": {
            "text/plain": [
              "array([[ True,  True,  True,  True, False, False, False],\n",
              "       [False,  True,  True,  True,  True,  True,  True]])"
            ]
          },
          "metadata": {},
          "execution_count": 98
        }
      ]
    },
    {
      "cell_type": "code",
      "metadata": {
        "colab": {
          "base_uri": "https://localhost:8080/"
        },
        "id": "t8b-4W5ZzjQN",
        "outputId": "5e7abc8e-77ed-49f9-831c-643bd56d24e1"
      },
      "source": [
        "# Change an element:\n",
        "a[1,5]=22\n",
        "print(a)"
      ],
      "execution_count": 15,
      "outputs": [
        {
          "output_type": "stream",
          "name": "stdout",
          "text": [
            "[[ 1  2  3  4  5  6  7]\n",
            " [ 8  9 10 11 12 22 14]]\n"
          ]
        }
      ]
    },
    {
      "cell_type": "code",
      "metadata": {
        "colab": {
          "base_uri": "https://localhost:8080/"
        },
        "id": "dDt2WRLLz2I9",
        "outputId": "b65a2678-1493-4d4e-b8da-c405a19bdd02"
      },
      "source": [
        "a[:,2]=50\n",
        "print(a)"
      ],
      "execution_count": 16,
      "outputs": [
        {
          "output_type": "stream",
          "name": "stdout",
          "text": [
            "[[ 1  2 50  4  5  6  7]\n",
            " [ 8  9 50 11 12 22 14]]\n"
          ]
        }
      ]
    },
    {
      "cell_type": "code",
      "metadata": {
        "colab": {
          "base_uri": "https://localhost:8080/"
        },
        "id": "riEmQOvr0ImB",
        "outputId": "8c966d78-8ffd-4939-e89e-f5333c51cf54"
      },
      "source": [
        "a[:,0]=[8,9]\n",
        "print(a)"
      ],
      "execution_count": 17,
      "outputs": [
        {
          "output_type": "stream",
          "name": "stdout",
          "text": [
            "[[ 8  2 50  4  5  6  7]\n",
            " [ 9  9 50 11 12 22 14]]\n"
          ]
        }
      ]
    },
    {
      "cell_type": "code",
      "metadata": {
        "colab": {
          "base_uri": "https://localhost:8080/"
        },
        "id": "bUQjgI6Y0a4H",
        "outputId": "c6751455-50fe-463e-9523-d1ba36bae6aa"
      },
      "source": [
        "# 3D example\n",
        "b=np.array([[[1,2],[3,4]],\n",
        "            [[5,6],[7,8]],\n",
        "            [[9,10],[11,12]]])\n",
        "print(b)"
      ],
      "execution_count": 18,
      "outputs": [
        {
          "output_type": "stream",
          "name": "stdout",
          "text": [
            "[[[ 1  2]\n",
            "  [ 3  4]]\n",
            "\n",
            " [[ 5  6]\n",
            "  [ 7  8]]\n",
            "\n",
            " [[ 9 10]\n",
            "  [11 12]]]\n"
          ]
        }
      ]
    },
    {
      "cell_type": "code",
      "metadata": {
        "colab": {
          "base_uri": "https://localhost:8080/"
        },
        "id": "IgmAVSZB1MGB",
        "outputId": "2ad46d89-69a5-4b4f-8f3b-d5311882c713"
      },
      "source": [
        "# Get specific element (work outside in)\n",
        "b[0,1,1]"
      ],
      "execution_count": 19,
      "outputs": [
        {
          "output_type": "execute_result",
          "data": {
            "text/plain": [
              "4"
            ]
          },
          "metadata": {},
          "execution_count": 19
        }
      ]
    },
    {
      "cell_type": "code",
      "metadata": {
        "colab": {
          "base_uri": "https://localhost:8080/"
        },
        "id": "JNl9Vqoq1eOV",
        "outputId": "1e032e1c-b954-45b0-9b2a-f5da17cd0cdd"
      },
      "source": [
        "b[:,1,:]"
      ],
      "execution_count": 20,
      "outputs": [
        {
          "output_type": "execute_result",
          "data": {
            "text/plain": [
              "array([[ 3,  4],\n",
              "       [ 7,  8],\n",
              "       [11, 12]])"
            ]
          },
          "metadata": {},
          "execution_count": 20
        }
      ]
    },
    {
      "cell_type": "markdown",
      "metadata": {
        "id": "R5sXwSaWyLEa"
      },
      "source": [
        "# **3. Initializing different kinds of arrays**"
      ]
    },
    {
      "cell_type": "code",
      "metadata": {
        "colab": {
          "base_uri": "https://localhost:8080/"
        },
        "id": "TvCf-8OtyRKX",
        "outputId": "864a7ec3-5184-450f-b672-c7c85e2ec56c"
      },
      "source": [
        "# All zero matrix\n",
        "np.zeros((2,3))"
      ],
      "execution_count": 21,
      "outputs": [
        {
          "output_type": "execute_result",
          "data": {
            "text/plain": [
              "array([[0., 0., 0.],\n",
              "       [0., 0., 0.]])"
            ]
          },
          "metadata": {},
          "execution_count": 21
        }
      ]
    },
    {
      "cell_type": "code",
      "metadata": {
        "colab": {
          "base_uri": "https://localhost:8080/"
        },
        "id": "vtkWyJ2Oy6Kv",
        "outputId": "6fe57cad-bae4-4ce1-ba08-1f3a9ee14692"
      },
      "source": [
        "# All ones matrix\n",
        "np.ones((3,3),dtype='int16')"
      ],
      "execution_count": 22,
      "outputs": [
        {
          "output_type": "execute_result",
          "data": {
            "text/plain": [
              "array([[1, 1, 1],\n",
              "       [1, 1, 1],\n",
              "       [1, 1, 1]], dtype=int16)"
            ]
          },
          "metadata": {},
          "execution_count": 22
        }
      ]
    },
    {
      "cell_type": "code",
      "metadata": {
        "colab": {
          "base_uri": "https://localhost:8080/"
        },
        "id": "60RMVlXqzGfU",
        "outputId": "2a7c4847-a4f8-483a-9481-de8cf2b8b89e"
      },
      "source": [
        "# Any other number\n",
        "np.full((4,2,2),99)"
      ],
      "execution_count": 23,
      "outputs": [
        {
          "output_type": "execute_result",
          "data": {
            "text/plain": [
              "array([[[99, 99],\n",
              "        [99, 99]],\n",
              "\n",
              "       [[99, 99],\n",
              "        [99, 99]],\n",
              "\n",
              "       [[99, 99],\n",
              "        [99, 99]],\n",
              "\n",
              "       [[99, 99],\n",
              "        [99, 99]]])"
            ]
          },
          "metadata": {},
          "execution_count": 23
        }
      ]
    },
    {
      "cell_type": "code",
      "metadata": {
        "colab": {
          "base_uri": "https://localhost:8080/"
        },
        "id": "PoYy7bCHzXdS",
        "outputId": "df0496ed-c5dd-417f-b266-f7077e6a527a"
      },
      "source": [
        "# Any other number, with previously defined array for shape:\n",
        "np.full_like(a,2)"
      ],
      "execution_count": 24,
      "outputs": [
        {
          "output_type": "execute_result",
          "data": {
            "text/plain": [
              "array([[2, 2, 2, 2, 2, 2, 2],\n",
              "       [2, 2, 2, 2, 2, 2, 2]])"
            ]
          },
          "metadata": {},
          "execution_count": 24
        }
      ]
    },
    {
      "cell_type": "code",
      "metadata": {
        "colab": {
          "base_uri": "https://localhost:8080/"
        },
        "id": "AviHaINczv07",
        "outputId": "f4f63c0d-b0d6-44d8-9091-5a48aa43222e"
      },
      "source": [
        "# Random decimal no.s:\n",
        "np.random.rand(4,2)"
      ],
      "execution_count": 25,
      "outputs": [
        {
          "output_type": "execute_result",
          "data": {
            "text/plain": [
              "array([[0.90641816, 0.65534272],\n",
              "       [0.06849478, 0.39435099],\n",
              "       [0.98522382, 0.25481899],\n",
              "       [0.93483309, 0.46364463]])"
            ]
          },
          "metadata": {},
          "execution_count": 25
        }
      ]
    },
    {
      "cell_type": "code",
      "metadata": {
        "colab": {
          "base_uri": "https://localhost:8080/"
        },
        "id": "2y59OYLSz-Bg",
        "outputId": "5e66ba44-1852-416c-8e6a-4a3e89323dee"
      },
      "source": [
        "# Random integer no.s:\n",
        "np.random.randint(-3,9,size=(3,3))"
      ],
      "execution_count": 27,
      "outputs": [
        {
          "output_type": "execute_result",
          "data": {
            "text/plain": [
              "array([[ 3, -2, -2],\n",
              "       [ 7,  0, -1],\n",
              "       [ 4,  1, -3]])"
            ]
          },
          "metadata": {},
          "execution_count": 27
        }
      ]
    },
    {
      "cell_type": "code",
      "metadata": {
        "colab": {
          "base_uri": "https://localhost:8080/"
        },
        "id": "BIuehSgO0VMU",
        "outputId": "c07ba37b-3e2c-4bab-ae88-64f26ad5546c"
      },
      "source": [
        "# Identity matrix:\n",
        "np.identity(3)"
      ],
      "execution_count": 28,
      "outputs": [
        {
          "output_type": "execute_result",
          "data": {
            "text/plain": [
              "array([[1., 0., 0.],\n",
              "       [0., 1., 0.],\n",
              "       [0., 0., 1.]])"
            ]
          },
          "metadata": {},
          "execution_count": 28
        }
      ]
    },
    {
      "cell_type": "code",
      "metadata": {
        "colab": {
          "base_uri": "https://localhost:8080/"
        },
        "id": "L72XkYvY0q4Q",
        "outputId": "4f328711-a969-448c-b5e8-8a467aa126e1"
      },
      "source": [
        "# Repeat an array\n",
        "arr=np.array([[1,2,3]])\n",
        "np.repeat(arr,3,axis=0)"
      ],
      "execution_count": 30,
      "outputs": [
        {
          "output_type": "execute_result",
          "data": {
            "text/plain": [
              "array([[1, 2, 3],\n",
              "       [1, 2, 3],\n",
              "       [1, 2, 3]])"
            ]
          },
          "metadata": {},
          "execution_count": 30
        }
      ]
    },
    {
      "cell_type": "markdown",
      "metadata": {
        "id": "rjbBTSI845gD"
      },
      "source": [
        "# **4. Copying arrays**"
      ]
    },
    {
      "cell_type": "code",
      "metadata": {
        "colab": {
          "base_uri": "https://localhost:8080/"
        },
        "id": "Dwli66ZE49ly",
        "outputId": "80ce1c18-afad-4b02-a2bc-33c6d3d27254"
      },
      "source": [
        "# Copy by reference:\n",
        "e=np.array([1,2,3])\n",
        "f=e\n",
        "f[0]=88\n",
        "e"
      ],
      "execution_count": 31,
      "outputs": [
        {
          "output_type": "execute_result",
          "data": {
            "text/plain": [
              "array([88,  2,  3])"
            ]
          },
          "metadata": {},
          "execution_count": 31
        }
      ]
    },
    {
      "cell_type": "code",
      "metadata": {
        "colab": {
          "base_uri": "https://localhost:8080/"
        },
        "id": "6Hyng9DO5T_f",
        "outputId": "8cee02bf-17f4-44e0-a618-774e53e33c35"
      },
      "source": [
        "# Copy by value:\n",
        "i=np.array([1,2,3])\n",
        "j=i.copy()\n",
        "j[0]=88\n",
        "i"
      ],
      "execution_count": 32,
      "outputs": [
        {
          "output_type": "execute_result",
          "data": {
            "text/plain": [
              "array([1, 2, 3])"
            ]
          },
          "metadata": {},
          "execution_count": 32
        }
      ]
    },
    {
      "cell_type": "markdown",
      "metadata": {
        "id": "Vo_VLtri5i1z"
      },
      "source": [
        "# **5. Mathematics**"
      ]
    },
    {
      "cell_type": "code",
      "metadata": {
        "colab": {
          "base_uri": "https://localhost:8080/"
        },
        "id": "6L8wg3xe5mDh",
        "outputId": "686aae15-4395-4c78-d17f-4d78ed2dc879"
      },
      "source": [
        "# All math operations are element-wise\n",
        "a=np.array([1,2,3,4])\n",
        "print(a)"
      ],
      "execution_count": 42,
      "outputs": [
        {
          "output_type": "stream",
          "name": "stdout",
          "text": [
            "[1 2 3 4]\n"
          ]
        }
      ]
    },
    {
      "cell_type": "code",
      "metadata": {
        "colab": {
          "base_uri": "https://localhost:8080/"
        },
        "id": "1tBiOseg6_pJ",
        "outputId": "79328eb5-fa92-4f4d-9595-17ac42df4625"
      },
      "source": [
        "a + 2"
      ],
      "execution_count": 43,
      "outputs": [
        {
          "output_type": "execute_result",
          "data": {
            "text/plain": [
              "array([3, 4, 5, 6])"
            ]
          },
          "metadata": {},
          "execution_count": 43
        }
      ]
    },
    {
      "cell_type": "code",
      "metadata": {
        "colab": {
          "base_uri": "https://localhost:8080/"
        },
        "id": "9aEeQMmN7FFW",
        "outputId": "31c2e94f-f7e9-44de-bf11-0a6985cdb6fa"
      },
      "source": [
        "a - 1"
      ],
      "execution_count": 44,
      "outputs": [
        {
          "output_type": "execute_result",
          "data": {
            "text/plain": [
              "array([0, 1, 2, 3])"
            ]
          },
          "metadata": {},
          "execution_count": 44
        }
      ]
    },
    {
      "cell_type": "code",
      "metadata": {
        "colab": {
          "base_uri": "https://localhost:8080/"
        },
        "id": "zTU1UCf-944v",
        "outputId": "e43c4cde-1d2d-49d8-b000-4d47ac35cef2"
      },
      "source": [
        "a * 2"
      ],
      "execution_count": 45,
      "outputs": [
        {
          "output_type": "execute_result",
          "data": {
            "text/plain": [
              "array([2, 4, 6, 8])"
            ]
          },
          "metadata": {},
          "execution_count": 45
        }
      ]
    },
    {
      "cell_type": "code",
      "metadata": {
        "colab": {
          "base_uri": "https://localhost:8080/"
        },
        "id": "dTu81aT498kD",
        "outputId": "d4e754fa-9b5c-4fde-9c46-af455388e0ad"
      },
      "source": [
        "a / 2"
      ],
      "execution_count": 46,
      "outputs": [
        {
          "output_type": "execute_result",
          "data": {
            "text/plain": [
              "array([0.5, 1. , 1.5, 2. ])"
            ]
          },
          "metadata": {},
          "execution_count": 46
        }
      ]
    },
    {
      "cell_type": "code",
      "metadata": {
        "colab": {
          "base_uri": "https://localhost:8080/"
        },
        "id": "HIgE4QN--NFn",
        "outputId": "709cf246-9c07-4fa4-f80d-f723e7de25c4"
      },
      "source": [
        "b=np.array([1,0,1,0])\n",
        "a+b"
      ],
      "execution_count": 47,
      "outputs": [
        {
          "output_type": "execute_result",
          "data": {
            "text/plain": [
              "array([2, 2, 4, 4])"
            ]
          },
          "metadata": {},
          "execution_count": 47
        }
      ]
    },
    {
      "cell_type": "code",
      "metadata": {
        "colab": {
          "base_uri": "https://localhost:8080/"
        },
        "id": "EDUFCqt8Afc_",
        "outputId": "b02d4646-8d84-469b-d582-9641b7730c2f"
      },
      "source": [
        "# Trigo functions\n",
        "np.cos(a)"
      ],
      "execution_count": 48,
      "outputs": [
        {
          "output_type": "execute_result",
          "data": {
            "text/plain": [
              "array([ 0.54030231, -0.41614684, -0.9899925 , -0.65364362])"
            ]
          },
          "metadata": {},
          "execution_count": 48
        }
      ]
    },
    {
      "cell_type": "markdown",
      "metadata": {
        "id": "-xxc7vVFHqo3"
      },
      "source": [
        "# **6. Linear Algebra**"
      ]
    },
    {
      "cell_type": "code",
      "metadata": {
        "colab": {
          "base_uri": "https://localhost:8080/"
        },
        "id": "3Z_6coiAHtnH",
        "outputId": "4f89697d-288e-4c53-9ecd-3e11bea46026"
      },
      "source": [
        "a = np.ones((2,3))\n",
        "b = np.full((3,2), 2)\n",
        "print('a :{}'.format(a))\n",
        "print('b :{}'.format(b))"
      ],
      "execution_count": 54,
      "outputs": [
        {
          "output_type": "stream",
          "name": "stdout",
          "text": [
            "a :[[1. 1. 1.]\n",
            " [1. 1. 1.]]\n",
            "b :[[2 2]\n",
            " [2 2]\n",
            " [2 2]]\n"
          ]
        }
      ]
    },
    {
      "cell_type": "code",
      "metadata": {
        "colab": {
          "base_uri": "https://localhost:8080/",
          "height": 178
        },
        "id": "e42UGUDgH9N8",
        "outputId": "a1de7828-1537-4809-8b46-8f3b4758ed93"
      },
      "source": [
        "a*b\n",
        "# Gives an error because python operators are element wise"
      ],
      "execution_count": 51,
      "outputs": [
        {
          "output_type": "error",
          "ename": "ValueError",
          "evalue": "ignored",
          "traceback": [
            "\u001b[0;31m---------------------------------------------------------------------------\u001b[0m",
            "\u001b[0;31mValueError\u001b[0m                                Traceback (most recent call last)",
            "\u001b[0;32m<ipython-input-51-ede2675ec774>\u001b[0m in \u001b[0;36m<module>\u001b[0;34m()\u001b[0m\n\u001b[0;32m----> 1\u001b[0;31m \u001b[0ma\u001b[0m\u001b[0;34m*\u001b[0m\u001b[0mb\u001b[0m\u001b[0;34m\u001b[0m\u001b[0;34m\u001b[0m\u001b[0m\n\u001b[0m\u001b[1;32m      2\u001b[0m \u001b[0;31m# Gives an error because python operators are element wise\u001b[0m\u001b[0;34m\u001b[0m\u001b[0;34m\u001b[0m\u001b[0;34m\u001b[0m\u001b[0m\n",
            "\u001b[0;31mValueError\u001b[0m: operands could not be broadcast together with shapes (2,3) (3,2) "
          ]
        }
      ]
    },
    {
      "cell_type": "code",
      "metadata": {
        "colab": {
          "base_uri": "https://localhost:8080/"
        },
        "id": "xL5CK9pAINMa",
        "outputId": "e073621a-b205-4577-96e4-70b61388233e"
      },
      "source": [
        "# Matrix cross multiplication\n",
        "np.matmul(a,b)"
      ],
      "execution_count": 52,
      "outputs": [
        {
          "output_type": "execute_result",
          "data": {
            "text/plain": [
              "array([[6., 6.],\n",
              "       [6., 6.]])"
            ]
          },
          "metadata": {},
          "execution_count": 52
        }
      ]
    },
    {
      "cell_type": "code",
      "metadata": {
        "colab": {
          "base_uri": "https://localhost:8080/"
        },
        "id": "Cu78ieZoIqaa",
        "outputId": "00477721-bf0d-499e-ac8c-f29063721a8d"
      },
      "source": [
        "# Matrix dot product\n",
        "np.dot(a,b)"
      ],
      "execution_count": 55,
      "outputs": [
        {
          "output_type": "execute_result",
          "data": {
            "text/plain": [
              "array([[6., 6.],\n",
              "       [6., 6.]])"
            ]
          },
          "metadata": {},
          "execution_count": 55
        }
      ]
    },
    {
      "cell_type": "code",
      "metadata": {
        "colab": {
          "base_uri": "https://localhost:8080/"
        },
        "id": "rUfU36uvI8f9",
        "outputId": "ca503fb6-6db1-4401-ee25-23a005b944cd"
      },
      "source": [
        "# Find determinant\n",
        "c = np.identity(3)\n",
        "np.linalg.det(c)"
      ],
      "execution_count": 57,
      "outputs": [
        {
          "output_type": "execute_result",
          "data": {
            "text/plain": [
              "1.0"
            ]
          },
          "metadata": {},
          "execution_count": 57
        }
      ]
    },
    {
      "cell_type": "code",
      "metadata": {
        "id": "EcqEAS3YJTvV"
      },
      "source": [
        "## Reference docs (https://docs.scipy.org/doc/numpy/reference/routines.linalg.html)\n",
        "\n",
        "# Determinant\n",
        "# Trace\n",
        "# Singular Vector Decomposition\n",
        "# Eigenvalues\n",
        "# Matrix Norm\n",
        "# Inverse\n",
        "# Etc..."
      ],
      "execution_count": 58,
      "outputs": []
    },
    {
      "cell_type": "markdown",
      "metadata": {
        "id": "4fxbZGY_JelJ"
      },
      "source": [
        "## **7. Statistics**"
      ]
    },
    {
      "cell_type": "code",
      "metadata": {
        "colab": {
          "base_uri": "https://localhost:8080/"
        },
        "id": "nW4Mw__sJixI",
        "outputId": "454b4e9d-8bb7-48a3-f014-63dbc66276d2"
      },
      "source": [
        "stats = np.array([[1,2,3],[4,5,6]])\n",
        "stats"
      ],
      "execution_count": 62,
      "outputs": [
        {
          "output_type": "execute_result",
          "data": {
            "text/plain": [
              "array([[1, 2, 3],\n",
              "       [4, 5, 6]])"
            ]
          },
          "metadata": {},
          "execution_count": 62
        }
      ]
    },
    {
      "cell_type": "code",
      "metadata": {
        "colab": {
          "base_uri": "https://localhost:8080/"
        },
        "id": "KmYxVl8YJrhz",
        "outputId": "51622d65-13e5-40a2-8eb3-a1b8395f26f0"
      },
      "source": [
        "# Minimum\n",
        "np.min(stats)"
      ],
      "execution_count": 63,
      "outputs": [
        {
          "output_type": "execute_result",
          "data": {
            "text/plain": [
              "1"
            ]
          },
          "metadata": {},
          "execution_count": 63
        }
      ]
    },
    {
      "cell_type": "code",
      "metadata": {
        "colab": {
          "base_uri": "https://localhost:8080/"
        },
        "id": "SXzB10rHJxYJ",
        "outputId": "1625cced-ee81-4d5e-e3b0-c61cf41b1c99"
      },
      "source": [
        "# Maximum\n",
        "np.max(stats)"
      ],
      "execution_count": 64,
      "outputs": [
        {
          "output_type": "execute_result",
          "data": {
            "text/plain": [
              "6"
            ]
          },
          "metadata": {},
          "execution_count": 64
        }
      ]
    },
    {
      "cell_type": "code",
      "metadata": {
        "colab": {
          "base_uri": "https://localhost:8080/"
        },
        "id": "oBFGlxzIKB6S",
        "outputId": "af8bc937-b328-464e-9060-e85b1e47a092"
      },
      "source": [
        "np.min(stats,axis=1)"
      ],
      "execution_count": 65,
      "outputs": [
        {
          "output_type": "execute_result",
          "data": {
            "text/plain": [
              "array([1, 4])"
            ]
          },
          "metadata": {},
          "execution_count": 65
        }
      ]
    },
    {
      "cell_type": "code",
      "metadata": {
        "colab": {
          "base_uri": "https://localhost:8080/"
        },
        "id": "jJToTLfWKO9n",
        "outputId": "088251d3-b733-47bc-ede4-3d306ddfe264"
      },
      "source": [
        "np.min(stats, axis=0)"
      ],
      "execution_count": 66,
      "outputs": [
        {
          "output_type": "execute_result",
          "data": {
            "text/plain": [
              "array([1, 2, 3])"
            ]
          },
          "metadata": {},
          "execution_count": 66
        }
      ]
    },
    {
      "cell_type": "code",
      "metadata": {
        "colab": {
          "base_uri": "https://localhost:8080/"
        },
        "id": "YQzjQyImKp-F",
        "outputId": "ef50482e-aa88-4552-f16b-4a00f309daf7"
      },
      "source": [
        "# Sum\n",
        "np.sum(stats)"
      ],
      "execution_count": 67,
      "outputs": [
        {
          "output_type": "execute_result",
          "data": {
            "text/plain": [
              "21"
            ]
          },
          "metadata": {},
          "execution_count": 67
        }
      ]
    },
    {
      "cell_type": "code",
      "metadata": {
        "colab": {
          "base_uri": "https://localhost:8080/"
        },
        "id": "1q-XXJCaKurV",
        "outputId": "1fd55113-dfd6-46bc-c514-4424f5e251c9"
      },
      "source": [
        "# Sum\n",
        "np.sum(stats, axis=0)"
      ],
      "execution_count": 69,
      "outputs": [
        {
          "output_type": "execute_result",
          "data": {
            "text/plain": [
              "array([5, 7, 9])"
            ]
          },
          "metadata": {},
          "execution_count": 69
        }
      ]
    },
    {
      "cell_type": "markdown",
      "metadata": {
        "id": "Bn9LXnB1L-49"
      },
      "source": [
        "# **8. Reorganizing arrays**"
      ]
    },
    {
      "cell_type": "code",
      "metadata": {
        "colab": {
          "base_uri": "https://localhost:8080/"
        },
        "id": "rCUP06xPMC5W",
        "outputId": "ba014945-f426-48c8-f02c-dee01ba2bf8f"
      },
      "source": [
        "# Reshaping arrays\n",
        "before = np.array([[1,2,3,4],[5,6,7,8]])\n",
        "print(before)\n",
        "after=before.reshape(4,2)\n",
        "print(after)"
      ],
      "execution_count": 72,
      "outputs": [
        {
          "output_type": "stream",
          "name": "stdout",
          "text": [
            "[[1 2 3 4]\n",
            " [5 6 7 8]]\n",
            "[[1 2]\n",
            " [3 4]\n",
            " [5 6]\n",
            " [7 8]]\n"
          ]
        }
      ]
    },
    {
      "cell_type": "code",
      "metadata": {
        "colab": {
          "base_uri": "https://localhost:8080/"
        },
        "id": "1qRH6BsQNYWN",
        "outputId": "0cc37baf-f544-49c2-909d-08e44dd9bcc8"
      },
      "source": [
        "# Vertically stacking arrays:\n",
        "v1 = np.array([1,2,3,4])\n",
        "v2 = np.array([5,6,7,8])\n",
        "\n",
        "np.vstack([v1,v1,v2])"
      ],
      "execution_count": 74,
      "outputs": [
        {
          "output_type": "execute_result",
          "data": {
            "text/plain": [
              "array([[1, 2, 3, 4],\n",
              "       [1, 2, 3, 4],\n",
              "       [5, 6, 7, 8]])"
            ]
          },
          "metadata": {},
          "execution_count": 74
        }
      ]
    },
    {
      "cell_type": "code",
      "metadata": {
        "colab": {
          "base_uri": "https://localhost:8080/"
        },
        "id": "BZVtIu8rNw7j",
        "outputId": "f4c481d8-760c-4b29-fc05-75514f9c0bd9"
      },
      "source": [
        "# Horizontally stacking arrays:\n",
        "np.hstack((v1,v2))"
      ],
      "execution_count": 75,
      "outputs": [
        {
          "output_type": "execute_result",
          "data": {
            "text/plain": [
              "array([1, 2, 3, 4, 5, 6, 7, 8])"
            ]
          },
          "metadata": {},
          "execution_count": 75
        }
      ]
    }
  ]
}